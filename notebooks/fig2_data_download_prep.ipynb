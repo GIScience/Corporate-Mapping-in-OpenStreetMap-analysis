{
 "cells": [
  {
   "cell_type": "code",
   "execution_count": 2,
   "id": "fa8d2092-7765-46c1-b0ea-76d5f80fca91",
   "metadata": {},
   "outputs": [],
   "source": [
    "import pandas as pd\n",
    "import geopandas as gpd\n",
    "import numpy as np \n",
    "import matplotlib.pyplot as plt \n",
    "import duckdb\n",
    "import shapely.wkb\n",
    "from shapely.wkb import loads\n",
    "\n",
    "import glob\n",
    "import os"
   ]
  },
  {
   "cell_type": "markdown",
   "id": "83a42225-3dad-4e8f-acfe-f97336798a1d",
   "metadata": {},
   "source": [
    "## Data Download"
   ]
  },
  {
   "cell_type": "code",
   "execution_count": 2,
   "id": "9e1d3536-7e07-46bc-8a95-19f47512393c",
   "metadata": {},
   "outputs": [],
   "source": [
    "#data files\n",
    "db = duckdb.read_parquet(r\"D:\\Datenbank\\ohsome-stats-yearly\\year=*\\month=*\\*.parquet\", hive_partitioning=1) "
   ]
  },
  {
   "cell_type": "code",
   "execution_count": 3,
   "id": "d50f757c-f850-4058-aea8-d6ea8a52c88a",
   "metadata": {},
   "outputs": [],
   "source": [
    "hashtag_list = ['amap', 'adt', 'bolt', 'DigitalEgypt', 'expedia', 'gojek', 'MSFTOpenMaps', 'grab', 'Kaart', 'Kontur', 'mbx', 'RocketData',\n",
    "                'disputed_by_claimed_by', 'Snapp', 'stackbox', 'Telenav', 'Lightcyphers', 'tomtom', 'TIDBO', 'WIGeoGIS-OMV', 'نشان',\n",
    "                'mapbox', 'Komoot', 'AppLogica']"
   ]
  },
  {
   "cell_type": "code",
   "execution_count": 4,
   "id": "3d78b16f-8d68-4a21-b922-ee881419f670",
   "metadata": {},
   "outputs": [],
   "source": [
    "# Specify the directory where your Excel files are located\n",
    "directory_path =  r\"C:\\Users\\lilly\\Documents\\bachelorarbeit\\analysis\\UserNameID-v2\"\n",
    "\n",
    "# Get a list of all Excel files in the directory\n",
    "excel_files = glob.glob(os.path.join(directory_path, \"*.xls\"))\n",
    "\n",
    "# Create an empty dictionary to store DataFrames\n",
    "dataframes_dict = {}\n",
    "\n",
    "# Read each Excel file and store its DataFrame in the dictionary - files saved as xldr - otherwise when saved as csv, other method applicable\n",
    "for excel_file in excel_files:\n",
    "    filename = os.path.basename(excel_file)\n",
    "    df = pd.read_csv(excel_file) \n",
    "    dataframes_dict[filename] = df"
   ]
  },
  {
   "cell_type": "code",
   "execution_count": 5,
   "id": "81b73e02-d4ad-48f5-802e-13dd166819e0",
   "metadata": {},
   "outputs": [],
   "source": [
    "# get the user-ids in working format\n",
    "def getListID(filename):\n",
    "    df = dataframes_dict[filename]\n",
    "    CorpoId = df['User ID']\n",
    "    user_ids_str = ','.join([f\"'{id}'\" for id in CorpoId])\n",
    "    return user_ids_str\n",
    "\n",
    "Meta = getListID(\"MetaUser.xls\")"
   ]
  },
  {
   "cell_type": "code",
   "execution_count": 6,
   "id": "9af03a2d-102c-47d7-ae36-2ae55f97b689",
   "metadata": {},
   "outputs": [],
   "source": [
    "def generate_ce_statement_meta(hashtags_list):\n",
    "    # Construct the dynamic CE statement based on the list of hashtags\n",
    "    ce_statement = \" OR \".join([f\"hashtags ILIKE '%{tag}%'\" for tag in hashtags_list]) + f\"OR user_id IN ({Meta})\"\n",
    "    return ce_statement"
   ]
  },
  {
   "cell_type": "code",
   "execution_count": 41,
   "id": "4decf6b5-6cca-452d-8661-52d5c99aacf9",
   "metadata": {},
   "outputs": [],
   "source": [
    "corporate_where = generate_ce_statement_meta(hashtag_list)"
   ]
  },
  {
   "cell_type": "code",
   "execution_count": 3,
   "id": "91a12ddf-ea71-4d48-a788-1660915b22a1",
   "metadata": {},
   "outputs": [],
   "source": [
    "b3 = gpd.read_file(r\"C:\\Users\\Lilly\\Downloads\\world-administrative-boundaries\\world-administrative-boundaries.shp\")"
   ]
  },
  {
   "cell_type": "code",
   "execution_count": 145,
   "id": "705bca12-a565-43e8-9581-79b9d0b61a0e",
   "metadata": {},
   "outputs": [],
   "source": [
    "border = b3[['iso3', 'geometry']]\n",
    "border = border.rename(columns={'iso3': 'ISO_A3'})"
   ]
  },
  {
   "cell_type": "markdown",
   "id": "943bf211-4164-4824-b0db-26fae4d929ef",
   "metadata": {},
   "source": [
    "**TOTAL**"
   ]
  },
  {
   "cell_type": "code",
   "execution_count": 14,
   "id": "cac13314-81eb-47a8-954b-1f1e3a32a5a0",
   "metadata": {
    "scrolled": true
   },
   "outputs": [
    {
     "name": "stdout",
     "output_type": "stream",
     "text": [
      "┌─────────┬────────┬─────────┬─────────┐\n",
      "│ ISO_A3  │ total  │  year   │  month  │\n",
      "│ varchar │ int64  │ varchar │ varchar │\n",
      "├─────────┼────────┼─────────┼─────────┤\n",
      "│ RUS     │ 706627 │ 2019    │ 1       │\n",
      "│ MRT     │  24870 │ 2019    │ 1       │\n",
      "│ GMB     │   3885 │ 2019    │ 1       │\n",
      "│ GIN     │ 122957 │ 2019    │ 1       │\n",
      "│ JPN     │ 473778 │ 2019    │ 1       │\n",
      "│ BRA     │ 488209 │ 2019    │ 1       │\n",
      "│ COL     │  35008 │ 2019    │ 1       │\n",
      "│ MEX     │ 183595 │ 2019    │ 1       │\n",
      "│ IND     │ 231672 │ 2019    │ 1       │\n",
      "│ KAZ     │  67453 │ 2019    │ 1       │\n",
      "│  ·      │     ·  │  ·      │ ·       │\n",
      "│  ·      │     ·  │  ·      │ ·       │\n",
      "│  ·      │     ·  │  ·      │ ·       │\n",
      "│ KIR     │   1902 │ 2019    │ 10      │\n",
      "│ SSD     │   3340 │ 2019    │ 10      │\n",
      "│ BHR     │    719 │ 2019    │ 10      │\n",
      "│ IRQ     │  17355 │ 2019    │ 10      │\n",
      "│ ROU     │  54999 │ 2019    │ 10      │\n",
      "│ NER     │   5338 │ 2019    │ 10      │\n",
      "│ MDA     │  29345 │ 2019    │ 10      │\n",
      "│ NAM     │   8897 │ 2019    │ 10      │\n",
      "│ VNM     │  35530 │ 2019    │ 10      │\n",
      "│ JOR     │   7020 │ 2019    │ 10      │\n",
      "├─────────┴────────┴─────────┴─────────┤\n",
      "│    ? rows (>9999 rows, 20 shown)     │\n",
      "└──────────────────────────────────────┘\n",
      "\n"
     ]
    }
   ],
   "source": [
    "country_total = duckdb.sql(\"\"\"\n",
    "    SELECT country AS ISO_A3, COUNT(*) AS total, year, month\n",
    "    FROM db\n",
    "    WHERE year > 2018 \n",
    "    GROUP BY ISO_A3, year, month\n",
    "\n",
    "\"\"\")\n",
    "country_total.show()\n",
    "country_total_df = country_total.to_df()"
   ]
  },
  {
   "cell_type": "code",
   "execution_count": 15,
   "id": "da3c9c58-845f-4823-a31b-f88fded21a10",
   "metadata": {},
   "outputs": [],
   "source": [
    "df_total = country_total_df.copy()"
   ]
  },
  {
   "cell_type": "code",
   "execution_count": 16,
   "id": "3773a7ff-5dc6-4ad5-9b83-e48eb0651db8",
   "metadata": {},
   "outputs": [],
   "source": [
    "df_total[\"time\"] = df_total[\"year\"].astype(str) + '-' + df_total[\"month\"].astype(str) #creating a new column 'time', combining both month and year\n",
    "# adjusting the format of the 'time' column to be able to adjust in the correct order with 'ascending'\n",
    "df_total['time'] = pd.to_datetime(df_total['time'], format='%Y-%m') \n",
    "df_total['time'] = df_total['time'].dt.to_period('M')\n"
   ]
  },
  {
   "cell_type": "code",
   "execution_count": 19,
   "id": "360d5127-e038-4c84-a0d6-b36d673c7148",
   "metadata": {},
   "outputs": [],
   "source": [
    "df_total = df_total.drop(columns={'year', 'month'})"
   ]
  },
  {
   "cell_type": "code",
   "execution_count": 27,
   "id": "739eb543-927e-40bb-92f9-fc8444b4157b",
   "metadata": {},
   "outputs": [],
   "source": [
    "df_total = df_total.sort_values(by=['time'], ascending=True).loc[df_total['time']<'2023-07']"
   ]
  },
  {
   "cell_type": "code",
   "execution_count": 28,
   "id": "a5bf9d9b-4f04-4314-bac8-b291fb6c8832",
   "metadata": {},
   "outputs": [],
   "source": [
    "df_total = df_total.loc[df_total['time']>'2019-05']"
   ]
  },
  {
   "cell_type": "code",
   "execution_count": 30,
   "id": "bd201a2b-7bdb-4f70-9da7-65b09fc22fac",
   "metadata": {},
   "outputs": [],
   "source": [
    "total = df_total.copy()\n",
    "total = total.drop(columns={'time'})"
   ]
  },
  {
   "cell_type": "code",
   "execution_count": 32,
   "id": "11bba5f2-b17b-48a0-88ef-1b5ce5295480",
   "metadata": {},
   "outputs": [],
   "source": [
    "total = total.groupby('ISO_A3').sum()"
   ]
  },
  {
   "cell_type": "code",
   "execution_count": 39,
   "id": "d3f58efe-e176-4510-916f-cc1024c8c1ae",
   "metadata": {
    "scrolled": true
   },
   "outputs": [
    {
     "data": {
      "text/html": [
       "<div>\n",
       "<style scoped>\n",
       "    .dataframe tbody tr th:only-of-type {\n",
       "        vertical-align: middle;\n",
       "    }\n",
       "\n",
       "    .dataframe tbody tr th {\n",
       "        vertical-align: top;\n",
       "    }\n",
       "\n",
       "    .dataframe thead th {\n",
       "        text-align: right;\n",
       "    }\n",
       "</style>\n",
       "<table border=\"1\" class=\"dataframe\">\n",
       "  <thead>\n",
       "    <tr style=\"text-align: right;\">\n",
       "      <th></th>\n",
       "      <th>total</th>\n",
       "    </tr>\n",
       "    <tr>\n",
       "      <th>ISO_A3</th>\n",
       "      <th></th>\n",
       "    </tr>\n",
       "  </thead>\n",
       "  <tbody>\n",
       "    <tr>\n",
       "      <th>USA</th>\n",
       "      <td>167025695</td>\n",
       "    </tr>\n",
       "    <tr>\n",
       "      <th>DEU</th>\n",
       "      <td>75883752</td>\n",
       "    </tr>\n",
       "    <tr>\n",
       "      <th>FRA</th>\n",
       "      <td>52754006</td>\n",
       "    </tr>\n",
       "    <tr>\n",
       "      <th>RUS</th>\n",
       "      <td>41587488</td>\n",
       "    </tr>\n",
       "    <tr>\n",
       "      <th>IDN</th>\n",
       "      <td>38793596</td>\n",
       "    </tr>\n",
       "    <tr>\n",
       "      <th>GBR</th>\n",
       "      <td>35714606</td>\n",
       "    </tr>\n",
       "    <tr>\n",
       "      <th>POL</th>\n",
       "      <td>34486362</td>\n",
       "    </tr>\n",
       "    <tr>\n",
       "      <th>BRA</th>\n",
       "      <td>31709726</td>\n",
       "    </tr>\n",
       "    <tr>\n",
       "      <th>JPN</th>\n",
       "      <td>26543286</td>\n",
       "    </tr>\n",
       "    <tr>\n",
       "      <th>IND</th>\n",
       "      <td>26146765</td>\n",
       "    </tr>\n",
       "    <tr>\n",
       "      <th>ITA</th>\n",
       "      <td>21319784</td>\n",
       "    </tr>\n",
       "    <tr>\n",
       "      <th>CAN</th>\n",
       "      <td>20338645</td>\n",
       "    </tr>\n",
       "    <tr>\n",
       "      <th>ESP</th>\n",
       "      <td>19636676</td>\n",
       "    </tr>\n",
       "    <tr>\n",
       "      <th>CHN</th>\n",
       "      <td>19099688</td>\n",
       "    </tr>\n",
       "    <tr>\n",
       "      <th>MEX</th>\n",
       "      <td>18922786</td>\n",
       "    </tr>\n",
       "    <tr>\n",
       "      <th>TZA</th>\n",
       "      <td>16147093</td>\n",
       "    </tr>\n",
       "    <tr>\n",
       "      <th>NGA</th>\n",
       "      <td>15239770</td>\n",
       "    </tr>\n",
       "    <tr>\n",
       "      <th>NLD</th>\n",
       "      <td>15093635</td>\n",
       "    </tr>\n",
       "    <tr>\n",
       "      <th>PHL</th>\n",
       "      <td>14986628</td>\n",
       "    </tr>\n",
       "    <tr>\n",
       "      <th>UKR</th>\n",
       "      <td>13892869</td>\n",
       "    </tr>\n",
       "  </tbody>\n",
       "</table>\n",
       "</div>"
      ],
      "text/plain": [
       "            total\n",
       "ISO_A3           \n",
       "USA     167025695\n",
       "DEU      75883752\n",
       "FRA      52754006\n",
       "RUS      41587488\n",
       "IDN      38793596\n",
       "GBR      35714606\n",
       "POL      34486362\n",
       "BRA      31709726\n",
       "JPN      26543286\n",
       "IND      26146765\n",
       "ITA      21319784\n",
       "CAN      20338645\n",
       "ESP      19636676\n",
       "CHN      19099688\n",
       "MEX      18922786\n",
       "TZA      16147093\n",
       "NGA      15239770\n",
       "NLD      15093635\n",
       "PHL      14986628\n",
       "UKR      13892869"
      ]
     },
     "execution_count": 39,
     "metadata": {},
     "output_type": "execute_result"
    }
   ],
   "source": [
    "total.sort_values(by ='total', ascending = False).head(20)"
   ]
  },
  {
   "cell_type": "markdown",
   "id": "cfb08f80-66de-47dd-8599-76549d093181",
   "metadata": {},
   "source": [
    "**CORPORATE**"
   ]
  },
  {
   "cell_type": "code",
   "execution_count": 50,
   "id": "5de3c6b4-b6d8-438d-b6e8-5ef992a807f7",
   "metadata": {},
   "outputs": [
    {
     "name": "stdout",
     "output_type": "stream",
     "text": [
      "┌─────────┬───────┬─────────┬─────────┐\n",
      "│ ISO_A3  │ total │  year   │  month  │\n",
      "│ varchar │ int64 │ varchar │ varchar │\n",
      "├─────────┼───────┼─────────┼─────────┤\n",
      "│ MNE     │     1 │ 2021    │ 8       │\n",
      "│ SGP     │    54 │ 2021    │ 8       │\n",
      "│ GNQ     │    13 │ 2021    │ 8       │\n",
      "│ LBN     │     1 │ 2021    │ 8       │\n",
      "│ SWZ     │     6 │ 2022    │ 1       │\n",
      "│ TGO     │    11 │ 2021    │ 1       │\n",
      "│ OMN     │    13 │ 2021    │ 3       │\n",
      "│ HUN     │     1 │ 2021    │ 6       │\n",
      "│ IRL     │     9 │ 2021    │ 7       │\n",
      "│ TCD     │     1 │ 2021    │ 7       │\n",
      "│  ·      │     · │  ·      │ ·       │\n",
      "│  ·      │     · │  ·      │ ·       │\n",
      "│  ·      │     · │  ·      │ ·       │\n",
      "│ CHE     │     4 │ 2021    │ 2       │\n",
      "│ IRL     │     7 │ 2021    │ 3       │\n",
      "│ NAM     │     1 │ 2021    │ 3       │\n",
      "│ MOZ     │    47 │ 2021    │ 4       │\n",
      "│ KNA     │    48 │ 2021    │ 4       │\n",
      "│ LBY     │    10 │ 2021    │ 5       │\n",
      "│ BMU     │     3 │ 2021    │ 5       │\n",
      "│ SYC     │     9 │ 2021    │ 6       │\n",
      "│ GIB     │     2 │ 2021    │ 7       │\n",
      "│ LCA     │    11 │ 2021    │ 7       │\n",
      "├─────────┴───────┴─────────┴─────────┤\n",
      "│ 8567 rows (20 shown)      4 columns │\n",
      "└─────────────────────────────────────┘\n",
      "\n"
     ]
    }
   ],
   "source": [
    "corporate_country = duckdb.sql(f\"\"\"\n",
    "    SELECT country AS ISO_A3, COUNT(*) AS total, year, month\n",
    "    FROM db\n",
    "    WHERE ({corporate_where}) AND year > 2018 \n",
    "    GROUP BY ISO_A3, year, month\n",
    "\n",
    "\"\"\")\n",
    "corporate_country.show()\n",
    "corporate_country_df = corporate_country.to_df()"
   ]
  },
  {
   "cell_type": "code",
   "execution_count": 57,
   "id": "9f143ab1-9e52-4024-832b-770af720fa65",
   "metadata": {},
   "outputs": [],
   "source": [
    "df_corporate = corporate_country_df.copy()"
   ]
  },
  {
   "cell_type": "code",
   "execution_count": 58,
   "id": "eb2f7048-6c1a-45c9-bc3c-8f6c095f0ae7",
   "metadata": {},
   "outputs": [],
   "source": [
    "df_corporate[\"time\"] = df_corporate[\"year\"].astype(str) + '-' + df_corporate[\"month\"].astype(str) #creating a new column 'time', combining both month and year\n",
    "# adjusting the format of the 'time' column to be able to adjust in the correct order with 'ascending'\n",
    "df_corporate['time'] = pd.to_datetime(df_corporate['time'], format='%Y-%m') \n",
    "df_corporate['time'] = df_corporate['time'].dt.to_period('M')"
   ]
  },
  {
   "cell_type": "code",
   "execution_count": 59,
   "id": "19330398-f7e9-4496-b87d-4656a7dbc2b8",
   "metadata": {},
   "outputs": [],
   "source": [
    "df_corporate = df_corporate.drop(columns={'year', 'month'})"
   ]
  },
  {
   "cell_type": "code",
   "execution_count": 60,
   "id": "9c050951-5dd6-4fb5-8581-4abd657867d4",
   "metadata": {},
   "outputs": [],
   "source": [
    "df_corporate = df_corporate.sort_values(by=['time'], ascending=True).loc[df_corporate['time']<'2023-07']"
   ]
  },
  {
   "cell_type": "code",
   "execution_count": 63,
   "id": "7a9a671f-10b0-4d32-b2c5-f55766976d5b",
   "metadata": {},
   "outputs": [],
   "source": [
    "df_corporate = df_corporate.loc[df_corporate['time']>'2019-05']"
   ]
  },
  {
   "cell_type": "code",
   "execution_count": 64,
   "id": "46cb72bc-69c8-4f32-9df2-f27abba000c5",
   "metadata": {},
   "outputs": [],
   "source": [
    "corporate = df_corporate.copy()\n",
    "corporate = corporate.drop(columns={'time'})"
   ]
  },
  {
   "cell_type": "code",
   "execution_count": 65,
   "id": "92d0bb55-2a43-4170-be64-80b4b83bed51",
   "metadata": {},
   "outputs": [],
   "source": [
    "corporate = corporate.groupby('ISO_A3').sum()"
   ]
  },
  {
   "cell_type": "code",
   "execution_count": 68,
   "id": "6ddd07a4-f3d0-4966-bddc-9aa3ff3069c4",
   "metadata": {},
   "outputs": [
    {
     "data": {
      "text/html": [
       "<div>\n",
       "<style scoped>\n",
       "    .dataframe tbody tr th:only-of-type {\n",
       "        vertical-align: middle;\n",
       "    }\n",
       "\n",
       "    .dataframe tbody tr th {\n",
       "        vertical-align: top;\n",
       "    }\n",
       "\n",
       "    .dataframe thead th {\n",
       "        text-align: right;\n",
       "    }\n",
       "</style>\n",
       "<table border=\"1\" class=\"dataframe\">\n",
       "  <thead>\n",
       "    <tr style=\"text-align: right;\">\n",
       "      <th></th>\n",
       "      <th>total</th>\n",
       "    </tr>\n",
       "    <tr>\n",
       "      <th>ISO_A3</th>\n",
       "      <th></th>\n",
       "    </tr>\n",
       "  </thead>\n",
       "  <tbody>\n",
       "    <tr>\n",
       "      <th>IDN</th>\n",
       "      <td>13883393</td>\n",
       "    </tr>\n",
       "    <tr>\n",
       "      <th>MEX</th>\n",
       "      <td>12915669</td>\n",
       "    </tr>\n",
       "    <tr>\n",
       "      <th>IND</th>\n",
       "      <td>10995041</td>\n",
       "    </tr>\n",
       "    <tr>\n",
       "      <th>BRA</th>\n",
       "      <td>10129313</td>\n",
       "    </tr>\n",
       "    <tr>\n",
       "      <th>USA</th>\n",
       "      <td>6723148</td>\n",
       "    </tr>\n",
       "    <tr>\n",
       "      <th>TZA</th>\n",
       "      <td>4917891</td>\n",
       "    </tr>\n",
       "    <tr>\n",
       "      <th>VNM</th>\n",
       "      <td>4077101</td>\n",
       "    </tr>\n",
       "    <tr>\n",
       "      <th>PHL</th>\n",
       "      <td>3729634</td>\n",
       "    </tr>\n",
       "    <tr>\n",
       "      <th>COL</th>\n",
       "      <td>3002557</td>\n",
       "    </tr>\n",
       "    <tr>\n",
       "      <th>CHL</th>\n",
       "      <td>2798311</td>\n",
       "    </tr>\n",
       "    <tr>\n",
       "      <th>MYS</th>\n",
       "      <td>2749320</td>\n",
       "    </tr>\n",
       "    <tr>\n",
       "      <th>GRC</th>\n",
       "      <td>2377600</td>\n",
       "    </tr>\n",
       "    <tr>\n",
       "      <th>RUS</th>\n",
       "      <td>1981848</td>\n",
       "    </tr>\n",
       "    <tr>\n",
       "      <th>ARE</th>\n",
       "      <td>1451016</td>\n",
       "    </tr>\n",
       "    <tr>\n",
       "      <th>ZAF</th>\n",
       "      <td>1384961</td>\n",
       "    </tr>\n",
       "    <tr>\n",
       "      <th>UKR</th>\n",
       "      <td>994397</td>\n",
       "    </tr>\n",
       "    <tr>\n",
       "      <th>URY</th>\n",
       "      <td>743692</td>\n",
       "    </tr>\n",
       "    <tr>\n",
       "      <th>PER</th>\n",
       "      <td>615694</td>\n",
       "    </tr>\n",
       "    <tr>\n",
       "      <th>PAK</th>\n",
       "      <td>599322</td>\n",
       "    </tr>\n",
       "    <tr>\n",
       "      <th>NGA</th>\n",
       "      <td>599114</td>\n",
       "    </tr>\n",
       "  </tbody>\n",
       "</table>\n",
       "</div>"
      ],
      "text/plain": [
       "           total\n",
       "ISO_A3          \n",
       "IDN     13883393\n",
       "MEX     12915669\n",
       "IND     10995041\n",
       "BRA     10129313\n",
       "USA      6723148\n",
       "TZA      4917891\n",
       "VNM      4077101\n",
       "PHL      3729634\n",
       "COL      3002557\n",
       "CHL      2798311\n",
       "MYS      2749320\n",
       "GRC      2377600\n",
       "RUS      1981848\n",
       "ARE      1451016\n",
       "ZAF      1384961\n",
       "UKR       994397\n",
       "URY       743692\n",
       "PER       615694\n",
       "PAK       599322\n",
       "NGA       599114"
      ]
     },
     "execution_count": 68,
     "metadata": {},
     "output_type": "execute_result"
    }
   ],
   "source": [
    "corporate.sort_values(by ='total', ascending = False).head(20)"
   ]
  },
  {
   "cell_type": "code",
   "execution_count": 69,
   "id": "b5beb4ac-80a1-492e-9e89-0aaca461f49f",
   "metadata": {},
   "outputs": [],
   "source": [
    "corporate = corporate.rename(columns={'total':'corporate'})"
   ]
  },
  {
   "cell_type": "markdown",
   "id": "08fee70e-03b9-45ad-85fe-fbe47a7fa117",
   "metadata": {},
   "source": [
    "**GeoJSON**"
   ]
  },
  {
   "cell_type": "code",
   "execution_count": 111,
   "id": "67739f6e-1988-4772-a891-dc337edb535b",
   "metadata": {},
   "outputs": [],
   "source": [
    "combi = pd.merge(total, corporate, on = 'ISO_A3', how = 'left')\n",
    "combi['percentage'] = (combi['corporate'] / combi['total'])*100"
   ]
  },
  {
   "cell_type": "code",
   "execution_count": 112,
   "id": "8679cdbb-ae7a-47d7-a0d0-bbadd57fd1d1",
   "metadata": {},
   "outputs": [],
   "source": [
    "combi = combi.reset_index()"
   ]
  },
  {
   "cell_type": "code",
   "execution_count": 117,
   "id": "8ca55bc0-9418-420e-a490-a3131569edb3",
   "metadata": {},
   "outputs": [],
   "source": [
    "combi.to_csv('t0_t1_total_corporate_edits.csv', header = True)"
   ]
  },
  {
   "cell_type": "code",
   "execution_count": 146,
   "id": "2651fa66-99c9-4197-a624-76eb5049775b",
   "metadata": {},
   "outputs": [],
   "source": [
    "gdf = border.merge(combi, on = 'ISO_A3', how = 'left')"
   ]
  },
  {
   "cell_type": "code",
   "execution_count": 148,
   "id": "cf10048d-f7a5-4de0-ae6d-9af4c6876251",
   "metadata": {},
   "outputs": [],
   "source": [
    "gdf.to_file('corporate_edits_period_t0_t1_v3.geojson', driver=\"GeoJSON\")"
   ]
  }
 ],
 "metadata": {
  "kernelspec": {
   "display_name": "Python 3 (ipykernel)",
   "language": "python",
   "name": "python3"
  },
  "language_info": {
   "codemirror_mode": {
    "name": "ipython",
    "version": 3
   },
   "file_extension": ".py",
   "mimetype": "text/x-python",
   "name": "python",
   "nbconvert_exporter": "python",
   "pygments_lexer": "ipython3",
   "version": "3.11.5"
  }
 },
 "nbformat": 4,
 "nbformat_minor": 5
}
