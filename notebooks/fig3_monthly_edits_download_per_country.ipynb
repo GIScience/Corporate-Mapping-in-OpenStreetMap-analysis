{
 "cells": [
  {
   "cell_type": "code",
   "execution_count": 2,
   "id": "9d0dcfe3-6198-473a-b869-f0ae496d7aba",
   "metadata": {},
   "outputs": [],
   "source": [
    "import pandas as pd\n",
    "import geopandas as gpd\n",
    "import numpy as np \n",
    "import matplotlib.pyplot as plt \n",
    "import duckdb\n",
    "import shapely.wkb\n",
    "from shapely.wkb import loads\n",
    "\n",
    "import glob\n",
    "import os\n",
    "\n",
    "from shapely.geometry import Polygon\n",
    "from shapely import wkt\n",
    "\n",
    "import seaborn as sns"
   ]
  },
  {
   "cell_type": "markdown",
   "id": "9c077d6d-d974-4086-b6e1-222c7b11af89",
   "metadata": {},
   "source": [
    "### Functions"
   ]
  },
  {
   "cell_type": "code",
   "execution_count": null,
   "id": "8954bdfa-ea95-451b-a4dc-f5b2944c0788",
   "metadata": {},
   "outputs": [],
   "source": [
    "y = pd.read_csv(\"table_of_years.csv\") # from 'table_of_years.ipynb'\n",
    "y = y.drop(columns=['Unnamed: 0'])\n",
    "y['time'] = pd.to_datetime(y['time'], format='%Y-%m')\n",
    "y['time'] = y['time'].dt.to_period('M')\n",
    "y = y.loc[(y['year'] >= 2019)]"
   ]
  },
  {
   "cell_type": "code",
   "execution_count": 3,
   "id": "82fa8645-af9f-4549-8a89-ab9b8f28dd97",
   "metadata": {},
   "outputs": [],
   "source": [
    "# All corporate Hashtags\n",
    "hashtag_list = ['amap', 'adt', 'bolt', 'digitalegypt', 'expedia', 'gojek', 'MSFTOpenMaps', 'grab', 'Kaart', 'Kontur', 'mbx', 'RocketData',\n",
    "                'disputed_by_claimed_by', 'Snapp', 'stackbox', 'Telenav', 'Lightcyphers', 'tomtom', 'TIDBO', 'WIGeoGIS', 'نشان',\n",
    "                'mapbox', 'Komoot', 'AppLogica']"
   ]
  },
  {
   "cell_type": "markdown",
   "id": "13a13113-de1e-4194-b477-d49919990487",
   "metadata": {
    "jp-MarkdownHeadingCollapsed": true
   },
   "source": [
    "### Initial 3 \n",
    "**Remove later - combi calculation later**"
   ]
  },
  {
   "cell_type": "code",
   "execution_count": 4,
   "id": "806e861a-aa68-443d-8985-1ceac215aaef",
   "metadata": {},
   "outputs": [],
   "source": [
    "def Edits_monthly_total(country):\n",
    "    monthly = f\"\"\"\n",
    "        SELECT year, month, COUNT(*) AS totalEdits\n",
    "        FROM db\n",
    "        WHERE country = '{country}'\n",
    "        GROUP BY month, year\n",
    "        ORDER BY year, month ASC\n",
    "    \"\"\"\n",
    "\n",
    "    result = duckdb.sql(monthly)\n",
    "    # Convert the result to a pandas DataFrame\n",
    "    df = result.to_df()\n",
    "\n",
    "    \n",
    "    df[\"time\"] = df[\"year\"].astype(str) + '-' + df[\"month\"].astype(str) #creating a new column 'time', combining both month and year\n",
    "    # adjusting the format of the 'time' column to be able to adjust in the correct order with 'ascending'\n",
    "    df['time'] = pd.to_datetime(df['time'], format='%Y-%m') \n",
    "    df['time'] = df['time'].dt.to_period('M')\n",
    "    df = df.sort_values(by=['time'], ascending=True) \n",
    "\n",
    "    #merging the data to the prepared yf df (see Preperation) which contains the dates for every month 2015 - 2023  \n",
    "    mergedYear = pd.merge(y, df, how=\"left\", on='time')\n",
    "    #dropping the doubled columns\n",
    "    mergedYear = mergedYear.drop(columns=[\"year_y\", \"month_y\", \"year_x\", \"month_x\"])\n",
    "   \n",
    "    # the new df will now contain the months and years with no edits as well\n",
    "    return mergedYear\n"
   ]
  },
  {
   "cell_type": "code",
   "execution_count": 5,
   "id": "6bc380e5-15b8-47ec-b27c-5344351ded58",
   "metadata": {},
   "outputs": [],
   "source": [
    "def Edits_monthly_longterm(where_statement, country, new_column_name):\n",
    "    # Edits either corporate or non-corporate depending on the where statement\n",
    "    monthly = f\"\"\"\n",
    "        SELECT year, month, COUNT(*) AS totalEdits\n",
    "        FROM db\n",
    "        WHERE ({where_statement}) AND country = '{country}'\n",
    "        GROUP BY month, year\n",
    "        ORDER BY year, month ASC\n",
    "    \"\"\"\n",
    "\n",
    "    result = duckdb.sql(monthly)\n",
    "    # Convert the result to a pandas DataFrame\n",
    "    df = result.to_df()\n",
    "\n",
    "    \n",
    "    df[\"time\"] = df[\"year\"].astype(str) + '-' + df[\"month\"].astype(str) #creating a new column 'time', combining both month and year\n",
    "    # adjusting the format of the 'time' column to be able to adjust in the correct order with 'ascending'\n",
    "    df['time'] = pd.to_datetime(df['time'], format='%Y-%m') \n",
    "    df['time'] = df['time'].dt.to_period('M')\n",
    "    df = df.sort_values(by=['time'], ascending=True) \n",
    "\n",
    "    #merging the data to the prepared yf df (see Preperation) which contains the dates for every month 2015 - 2023  \n",
    "    mergedYear = pd.merge(y, df, how=\"left\", on='time')\n",
    "    #dropping the doubled columns\n",
    "    mergedYear = mergedYear.drop(columns=[\"year_y\", \"month_y\", \"year_x\", \"month_x\"])\n",
    "    mergedYear = mergedYear.rename(columns={'totalEdits': new_column_name})\n",
    "    # the new df will now contain the months and years with no edits as well\n",
    "    return mergedYear\n",
    "\n",
    "\n",
    "def combinedTabelAllEdits_longterm(CEwhere_statment, country, nonCEwhere_statment):\n",
    "    \n",
    "    CE_edits = Edits_monthly_longterm(CEwhere_statment, country, 'CE')\n",
    "    nonCE_edits = Edits_monthly_longterm(nonCEwhere_statment, country, 'NCE')\n",
    "    total_edits = Edits_monthly_total(country)\n",
    "\n",
    "    mergedYear = pd.merge(nonCE_edits, CE_edits, how=\"left\", on='time')\n",
    "    mergedYear = pd.merge(mergedYear, total_edits, how=\"left\", on='time')\n",
    "    return mergedYear\n"
   ]
  },
  {
   "cell_type": "code",
   "execution_count": 6,
   "id": "b890937e-0ea6-4ff7-835b-39547747f66a",
   "metadata": {},
   "outputs": [],
   "source": [
    "# creating a custom list of hashtags for each coutnry, since not every hashtag is used per country - for overview and speed\n",
    "def CreateCorporateHashtagList(country):\n",
    "    hashtagCE = \"\\n\".join([\n",
    "        f\"WHEN hashtags ILIKE '%{hashtag}%' THEN '{hashtag}'\" for hashtag in hashtag_list\n",
    "    ])\n",
    "    \n",
    "    # Calculate the percentage of editor users based on the total user count\n",
    "    t1 = duckdb.sql(f\"\"\" \n",
    "        SELECT\n",
    "            CASE\n",
    "                {hashtagCE}\n",
    "            END AS hashtag,\n",
    "            COUNT(*) AS Edits,\n",
    "        FROM db\n",
    "        WHERE country = '{country}'\n",
    "        GROUP BY hashtag\n",
    "        ORDER BY Edits DESC\n",
    "        \"\"\")\n",
    "    t1.fetchall()\n",
    "\n",
    "    t1 = t1.to_df()\n",
    "    noCE = t1.dropna()\n",
    "    corporate_list = noCE['hashtag'].tolist()\n",
    "    return corporate_list"
   ]
  },
  {
   "cell_type": "code",
   "execution_count": 7,
   "id": "b3aec11c-8e22-42ce-877f-c81e97ada2ca",
   "metadata": {},
   "outputs": [],
   "source": [
    "def generate_ce_statement(hashtags_list):\n",
    "    # Construct the dynamic CE statement based on the list of hashtags\n",
    "    ce_statement = \" OR \".join([f\"hashtags ILIKE '%{tag}%'\" for tag in hashtags_list])\n",
    "    return ce_statement\n",
    "\n",
    "def generate_nonce_statement(hashtags_list):\n",
    "    # Construct the dynamic nonCE statement based on the list of hashtags\n",
    "    non_ce_statement = \" AND \".join([f\"hashtags NOT ILIKE '%{tag}%'\" for tag in hashtags_list])\n",
    "    return non_ce_statement"
   ]
  },
  {
   "cell_type": "code",
   "execution_count": 8,
   "id": "44e9b78f-a74f-4643-8f76-2e4be3f44b79",
   "metadata": {},
   "outputs": [],
   "source": [
    "def download_monthly_edits(country):\n",
    "    hashtag_list = CreateCorporateHashtagList(country)\n",
    "\n",
    "    CE_where = generate_ce_statement(hashtag_list)\n",
    "    non_CE_where = generate_nonce_statement(hashtag_list)\n",
    "\n",
    "    edits_monthly = combinedTabelAllEdits_longterm(CE_where, country, non_CE_where)\n",
    "\n",
    "    edits_monthly.to_csv(country + '_edits_monthly_total_ce_nce.csv', header = True)"
   ]
  },
  {
   "cell_type": "code",
   "execution_count": 9,
   "id": "f2ee0769-0675-4573-8078-7524e1249bb3",
   "metadata": {},
   "outputs": [],
   "source": [
    "#data files\n",
    "db = duckdb.read_parquet(r\"D:\\Datenbank\\ohsome-stats-yearly\\year=*\\month=*\\*.parquet\", hive_partitioning=1) "
   ]
  },
  {
   "cell_type": "markdown",
   "id": "59163a28-ddaa-4455-bd3f-7670aa9af43b",
   "metadata": {},
   "source": [
    "#### Meta Extras"
   ]
  },
  {
   "cell_type": "code",
   "execution_count": 10,
   "id": "a8616701-0fdf-4e17-b67a-70c0e4c5e5d2",
   "metadata": {},
   "outputs": [],
   "source": [
    "# Specify the directory where your Excel files are located\n",
    "directory_path =  r\"C:\\Users\\lilly\\Documents\\bachelorarbeit\\analysis\\UserNameID-v2\"\n",
    "\n",
    "# Get a list of all Excel files in the directory\n",
    "excel_files = glob.glob(os.path.join(directory_path, \"*.xls\"))\n",
    "\n",
    "# Create an empty dictionary to store DataFrames\n",
    "dataframes_dict = {}\n",
    "\n",
    "# Read each Excel file and store its DataFrame in the dictionary - files saved as xldr - otherwise when saved as csv, other method applicable\n",
    "for excel_file in excel_files:\n",
    "    filename = os.path.basename(excel_file)\n",
    "    df = pd.read_csv(excel_file) \n",
    "    dataframes_dict[filename] = df"
   ]
  },
  {
   "cell_type": "code",
   "execution_count": 11,
   "id": "05ccab2c-c741-4c1f-a88e-e03ec0af8f81",
   "metadata": {},
   "outputs": [],
   "source": [
    "# get the user-ids in working format\n",
    "def getListID(filename):\n",
    "    df = dataframes_dict[filename]\n",
    "    CorpoId = df['User ID']\n",
    "    user_ids_str = ','.join([f\"'{id}'\" for id in CorpoId])\n",
    "    return user_ids_str"
   ]
  },
  {
   "cell_type": "code",
   "execution_count": 12,
   "id": "59522b37-3624-46ef-81ee-542900628851",
   "metadata": {},
   "outputs": [],
   "source": [
    "Meta = getListID(\"MetaUser.xls\")"
   ]
  },
  {
   "cell_type": "code",
   "execution_count": 13,
   "id": "ce99552c-ea28-44a6-8be1-71dd058a1812",
   "metadata": {},
   "outputs": [],
   "source": [
    "def meta_ce_where():\n",
    "    # Construct the dynamic CE statement based on the list of hashtags\n",
    "    ce_statement = f\"user_id IN ({Meta})\"\n",
    "    return ce_statement"
   ]
  },
  {
   "cell_type": "code",
   "execution_count": 14,
   "id": "47c4a56d-d7d8-4b8e-b4fc-ddb37093d333",
   "metadata": {},
   "outputs": [],
   "source": [
    "add_on_meta_ce_where = meta_ce_where()"
   ]
  },
  {
   "cell_type": "code",
   "execution_count": 15,
   "id": "25a28449-fea4-4c30-9e1d-5b6f1c7df266",
   "metadata": {},
   "outputs": [],
   "source": [
    "def meta_download(country):\n",
    "    CE_edits = Edits_monthly_longterm(add_on_meta_ce_where, country, 'Meta')\n",
    "    CE_edits.to_csv(country + '_edits_monthly_meta.csv', header = True)\n",
    "    "
   ]
  },
  {
   "cell_type": "markdown",
   "id": "cce6e5b1-a5e7-4f6f-9350-403e2895a1d5",
   "metadata": {},
   "source": [
    "## Combi for additional coutnries"
   ]
  },
  {
   "cell_type": "code",
   "execution_count": 16,
   "id": "04708646-5013-4b9c-92b2-5a1b12c6615b",
   "metadata": {},
   "outputs": [],
   "source": [
    "def Edits_monthly_total_combi(country):\n",
    "    monthly = f\"\"\"\n",
    "        SELECT year, month, COUNT(*) AS totalEdits\n",
    "        FROM db\n",
    "        WHERE country = '{country}' AND year > 2018\n",
    "        GROUP BY month, year\n",
    "        ORDER BY year, month ASC\n",
    "    \"\"\"\n",
    "\n",
    "    result = duckdb.sql(monthly)\n",
    "    # Convert the result to a pandas DataFrame\n",
    "    df = result.to_df()\n",
    "\n",
    "    \n",
    "    df[\"time\"] = df[\"year\"].astype(str) + '-' + df[\"month\"].astype(str) #creating a new column 'time', combining both month and year\n",
    "    # adjusting the format of the 'time' column to be able to adjust in the correct order with 'ascending'\n",
    "    df['time'] = pd.to_datetime(df['time'], format='%Y-%m') \n",
    "    df['time'] = df['time'].dt.to_period('M')\n",
    "    df = df.sort_values(by=['time'], ascending=True) \n",
    "\n",
    "    #merging the data to the prepared yf df (see Preperation) which contains the dates for every month 2015 - 2023  \n",
    "    mergedYear = pd.merge(y, df, how=\"left\", on='time')\n",
    "    #dropping the doubled columns\n",
    "    mergedYear = mergedYear.drop(columns=[\"year_y\", \"month_y\", \"year_x\", \"month_x\"])\n",
    "   \n",
    "    # the new df will now contain the months and years with no edits as well\n",
    "    return mergedYear\n"
   ]
  },
  {
   "cell_type": "code",
   "execution_count": 17,
   "id": "24a1ebca-6b63-4e4a-8693-89a3127140b5",
   "metadata": {},
   "outputs": [],
   "source": [
    "def Edits_monthly_longterm_combi(where_statement, country, new_column_name):\n",
    "    # Edits either corporate or non-corporate depending on the where statement\n",
    "    monthly = f\"\"\"\n",
    "        SELECT year, month, COUNT(*) AS totalEdits\n",
    "        FROM db\n",
    "        WHERE ({where_statement}) AND country = '{country}' AND year > 2018\n",
    "        GROUP BY month, year\n",
    "        ORDER BY year, month ASC\n",
    "    \"\"\"\n",
    "\n",
    "    result = duckdb.sql(monthly)\n",
    "    # Convert the result to a pandas DataFrame\n",
    "    df = result.to_df()\n",
    "\n",
    "    \n",
    "    df[\"time\"] = df[\"year\"].astype(str) + '-' + df[\"month\"].astype(str) #creating a new column 'time', combining both month and year\n",
    "    # adjusting the format of the 'time' column to be able to adjust in the correct order with 'ascending'\n",
    "    df['time'] = pd.to_datetime(df['time'], format='%Y-%m') \n",
    "    df['time'] = df['time'].dt.to_period('M')\n",
    "    df = df.sort_values(by=['time'], ascending=True) \n",
    "\n",
    "    #merging the data to the prepared yf df (see Preperation) which contains the dates for every month 2015 - 2023  \n",
    "    mergedYear = pd.merge(y, df, how=\"left\", on='time')\n",
    "    #dropping the doubled columns\n",
    "    mergedYear = mergedYear.drop(columns=[\"year_y\", \"month_y\", \"year_x\", \"month_x\"])\n",
    "    mergedYear = mergedYear.rename(columns={'totalEdits': new_column_name})\n",
    "    # the new df will now contain the months and years with no edits as well\n",
    "    return mergedYear\n",
    "\n",
    "\n",
    "def combinedTabelAllEdits_longterm_combi(CEwhere_statment, country, nonCEwhere_statment):\n",
    "    \n",
    "    CE_edits = Edits_monthly_longterm_combi(CEwhere_statment, country, 'CE')\n",
    "    nonCE_edits = Edits_monthly_longterm_combi(nonCEwhere_statment, country, 'NCE')\n",
    "    total_edits = Edits_monthly_total_combi(country)\n",
    "\n",
    "    mergedYear = pd.merge(nonCE_edits, CE_edits, how=\"left\", on='time')\n",
    "    mergedYear = pd.merge(mergedYear, total_edits, how=\"left\", on='time')\n",
    "    return mergedYear\n"
   ]
  },
  {
   "cell_type": "code",
   "execution_count": 18,
   "id": "44865344-c8fd-49c4-8251-f6920f5b2e56",
   "metadata": {},
   "outputs": [],
   "source": [
    "def generate_ce_statement_combi(hashtags_list):\n",
    "    # Construct the dynamic CE statement based on the list of hashtags\n",
    "    ce_statement = \" OR \".join([f\"hashtags ILIKE '%{tag}%'\" for tag in hashtags_list]) + f\"OR user_id IN ({Meta})\"\n",
    "    return ce_statement\n",
    "\n",
    "def generate_nonce_statement_combi(hashtags_list):\n",
    "    # Construct the dynamic nonCE statement based on the list of hashtags\n",
    "    non_ce_statement = \" AND \".join([f\"hashtags NOT ILIKE '%{tag}%'\" for tag in hashtags_list]) + f\"AND user_id NOT IN ({Meta})\"\n",
    "    return non_ce_statement"
   ]
  },
  {
   "cell_type": "code",
   "execution_count": 19,
   "id": "66fd1320-eb8f-44c5-895e-104d7bb4d062",
   "metadata": {},
   "outputs": [],
   "source": [
    "def download_monthly_edits_combi(country):\n",
    "    hashtag_list = CreateCorporateHashtagList(country)\n",
    "\n",
    "    CE_where = generate_ce_statement_combi(hashtag_list)\n",
    "    non_CE_where = generate_nonce_statement_combi(hashtag_list)\n",
    "\n",
    "    edits_monthly = combinedTabelAllEdits_longterm_combi(CE_where, country, non_CE_where)\n",
    "\n",
    "    edits_monthly['percentage'] = (edits_monthly['CE'] / edits_monthly['totalEdits']) * 100\n",
    "\n",
    "    edits_monthly.to_csv(country + '_edits_monthly_total_ce_nce.csv', header = True)"
   ]
  },
  {
   "cell_type": "markdown",
   "id": "e01bde58-c629-498a-a379-c7c67a416ae9",
   "metadata": {
    "jp-MarkdownHeadingCollapsed": true
   },
   "source": [
    "# Initial 3\n",
    "**add later to the rest of the countries**"
   ]
  },
  {
   "cell_type": "markdown",
   "id": "c847b63c-620e-483e-ac05-5e6017c4017c",
   "metadata": {
    "jp-MarkdownHeadingCollapsed": true
   },
   "source": [
    "### UNITED ARAB EMIRATES"
   ]
  },
  {
   "cell_type": "code",
   "execution_count": 14,
   "id": "ac2bfece-0bda-4b66-8aee-2b64e32e1ed4",
   "metadata": {
    "scrolled": true
   },
   "outputs": [],
   "source": [
    "download_monthly_edits('ARE')"
   ]
  },
  {
   "cell_type": "code",
   "execution_count": 11,
   "id": "462e2d30-e2b9-4caf-af45-7f814389a7fb",
   "metadata": {},
   "outputs": [],
   "source": [
    "are_edits_monthly = pd.read_csv('are_edits_monthly_ce_nce.csv')"
   ]
  },
  {
   "cell_type": "code",
   "execution_count": 39,
   "id": "6c4bf809-a08a-469f-b3d4-8cf17eb6f65f",
   "metadata": {},
   "outputs": [],
   "source": [
    "are_edits_monthly_complete = pd.read_csv('are_edits_monthly_total_ce_nce.csv')"
   ]
  },
  {
   "cell_type": "markdown",
   "id": "8762155e-cc3d-4d51-80e7-224f038925e8",
   "metadata": {},
   "source": [
    "**Meta add on**"
   ]
  },
  {
   "cell_type": "code",
   "execution_count": 41,
   "id": "8790382e-f833-4291-991e-f990bb10df4f",
   "metadata": {},
   "outputs": [],
   "source": [
    "meta_download('ARE')"
   ]
  },
  {
   "cell_type": "code",
   "execution_count": 38,
   "id": "296fe0ad-5548-48a4-84c6-b2fdcc1dd9e3",
   "metadata": {},
   "outputs": [],
   "source": [
    "are_meat_t1 = are_meat_t1.fillna(0)"
   ]
  },
  {
   "cell_type": "markdown",
   "id": "1d4955cd-8030-47fa-bc5d-683d8c103987",
   "metadata": {
    "jp-MarkdownHeadingCollapsed": true
   },
   "source": [
    "### COLOMBIA"
   ]
  },
  {
   "cell_type": "code",
   "execution_count": 17,
   "id": "e7ad49e4-a042-4cba-9cee-dca52a08b77f",
   "metadata": {},
   "outputs": [],
   "source": [
    "download_monthly_edits('COL')"
   ]
  },
  {
   "cell_type": "code",
   "execution_count": 20,
   "id": "d0702e56-f335-42b4-b335-3a90e2c0dbcb",
   "metadata": {},
   "outputs": [],
   "source": [
    "col_edits_monthly = pd.read_csv('COL_edits_monthly_total_ce_nce.csv')"
   ]
  },
  {
   "cell_type": "code",
   "execution_count": 21,
   "id": "17b7a3f5-441d-4164-ad2b-f2daa6f939a9",
   "metadata": {},
   "outputs": [
    {
     "data": {
      "text/plain": [
       "<Axes: xlabel='time'>"
      ]
     },
     "execution_count": 21,
     "metadata": {},
     "output_type": "execute_result"
    },
    {
     "data": {
      "image/png": "[encoded data removed]",
      "text/plain": [
       "<Figure size 640x480 with 1 Axes>"
      ]
     },
     "metadata": {},
     "output_type": "display_data"
    }
   ],
   "source": [
    "col_edits_monthly.plot(x = 'time')"
   ]
  },
  {
   "cell_type": "markdown",
   "id": "7388baf7-2b3f-4960-b297-7b0102baed86",
   "metadata": {},
   "source": [
    "**Meta add on**"
   ]
  },
  {
   "cell_type": "code",
   "execution_count": 42,
   "id": "27e7b77a-0db5-4992-8cda-ca5f514f3ef9",
   "metadata": {},
   "outputs": [],
   "source": [
    "meta_download('COL')"
   ]
  },
  {
   "cell_type": "code",
   "execution_count": 55,
   "id": "6493b4e3-e140-46e0-8384-156988fc6f37",
   "metadata": {},
   "outputs": [],
   "source": [
    "col_edits_monthly_meta = pd.read_csv('COL_edits_monthly_meta.csv')"
   ]
  },
  {
   "cell_type": "code",
   "execution_count": 56,
   "id": "d1cfe608-a93c-4051-9b31-109ac4c0f3e8",
   "metadata": {},
   "outputs": [
    {
     "data": {
      "text/plain": [
       "2759.0"
      ]
     },
     "execution_count": 56,
     "metadata": {},
     "output_type": "execute_result"
    }
   ],
   "source": [
    "col_edits_monthly_meta['Meta'].dropna().sum()"
   ]
  },
  {
   "cell_type": "markdown",
   "id": "7c1f4d7e-bfb0-4d69-b3dc-67961f246cd8",
   "metadata": {
    "jp-MarkdownHeadingCollapsed": true
   },
   "source": [
    "### INDONESIA"
   ]
  },
  {
   "cell_type": "code",
   "execution_count": 22,
   "id": "730a761b-8432-49f4-ba99-9e3c3aa30c79",
   "metadata": {
    "scrolled": true
   },
   "outputs": [],
   "source": [
    "download_monthly_edits('IDN')"
   ]
  },
  {
   "cell_type": "markdown",
   "id": "b1cc55d7-600a-4d71-bc48-1ec341c322f4",
   "metadata": {},
   "source": [
    "**Meta add on**"
   ]
  },
  {
   "cell_type": "code",
   "execution_count": 43,
   "id": "c0838402-9d1e-4a50-aa95-9804ebbc8428",
   "metadata": {},
   "outputs": [],
   "source": [
    "meta_download('IDN')"
   ]
  },
  {
   "cell_type": "code",
   "execution_count": 2,
   "id": "1accda2e-0a52-4ae9-a09a-d723d57ece9a",
   "metadata": {},
   "outputs": [],
   "source": [
    "idn_edits_monthly_meta = pd.read_csv('IDN_edits_monthly_meta.csv')"
   ]
  },
  {
   "cell_type": "code",
   "execution_count": 4,
   "id": "e6848cae-d8f5-490e-94c0-fd6706129a49",
   "metadata": {},
   "outputs": [],
   "source": [
    "idn_edits_monthly = pd.read_csv('IDN_edits_monthly_total_ce_nce.csv')"
   ]
  },
  {
   "cell_type": "markdown",
   "id": "63ceff74-e9d2-4ce7-9b79-10a7d5b879f9",
   "metadata": {},
   "source": [
    "# Additional Countries"
   ]
  },
  {
   "cell_type": "code",
   "execution_count": 20,
   "id": "59cd8c0d-9155-4136-b9f6-8419287d60bd",
   "metadata": {},
   "outputs": [],
   "source": [
    "#uruguay\n",
    "download_monthly_edits_combi('URY')"
   ]
  },
  {
   "cell_type": "code",
   "execution_count": 21,
   "id": "7f9feee5-4228-4c07-b7ff-e459569db435",
   "metadata": {},
   "outputs": [],
   "source": [
    "#Greece\n",
    "download_monthly_edits_combi('GRC')"
   ]
  },
  {
   "cell_type": "code",
   "execution_count": 22,
   "id": "f1cd91b6-f5b5-4637-81b0-8c457eea79ff",
   "metadata": {},
   "outputs": [],
   "source": [
    "#Bahrain\n",
    "download_monthly_edits_combi('BHR')"
   ]
  },
  {
   "cell_type": "code",
   "execution_count": 23,
   "id": "0edb97a6-fc55-4ced-acc8-fd51266cf8a7",
   "metadata": {},
   "outputs": [],
   "source": [
    "#Qatar\n",
    "download_monthly_edits_combi('QAT')"
   ]
  },
  {
   "cell_type": "code",
   "execution_count": 24,
   "id": "209f5e07-dc1a-4dd2-aa5f-03843d98e9ff",
   "metadata": {},
   "outputs": [],
   "source": [
    "#Greece\n",
    "download_monthly_edits_combi('CHL')"
   ]
  },
  {
   "cell_type": "code",
   "execution_count": 25,
   "id": "92ebcadd-b0cb-4ce6-80ed-854b867ae100",
   "metadata": {},
   "outputs": [],
   "source": [
    "#Greece\n",
    "download_monthly_edits_combi('MYS')"
   ]
  },
  {
   "cell_type": "code",
   "execution_count": 27,
   "id": "628ae037-b8f3-40c4-a824-6c6dc382b80c",
   "metadata": {},
   "outputs": [],
   "source": [
    "#VNM\n",
    "download_monthly_edits_combi('VNM')"
   ]
  },
  {
   "cell_type": "code",
   "execution_count": 28,
   "id": "7eee611a-20b5-48c4-a683-27ccadd2cd21",
   "metadata": {},
   "outputs": [],
   "source": [
    "download_monthly_edits_combi('DOM')"
   ]
  },
  {
   "cell_type": "code",
   "execution_count": 29,
   "id": "1b3a6326-3444-4198-bda8-b98799180d56",
   "metadata": {},
   "outputs": [],
   "source": [
    "download_monthly_edits_combi('OMN')"
   ]
  },
  {
   "cell_type": "code",
   "execution_count": 30,
   "id": "8bc64045-c273-4559-9598-02b53fdaec56",
   "metadata": {},
   "outputs": [],
   "source": [
    "download_monthly_edits_combi('KWT')"
   ]
  },
  {
   "cell_type": "code",
   "execution_count": 32,
   "id": "c54e1b90-2385-4400-8acf-5d63805263f9",
   "metadata": {},
   "outputs": [],
   "source": [
    "download_monthly_edits_combi('ECU')"
   ]
  },
  {
   "cell_type": "code",
   "execution_count": 33,
   "id": "6d1e99cb-9e1c-4fa4-8249-f40ce05a48cd",
   "metadata": {},
   "outputs": [],
   "source": [
    "download_monthly_edits_combi('SGP')"
   ]
  },
  {
   "cell_type": "code",
   "execution_count": 34,
   "id": "6eead3a1-d395-4b26-981f-40040d3da2b1",
   "metadata": {},
   "outputs": [],
   "source": [
    "download_monthly_edits_combi('KHM')"
   ]
  },
  {
   "cell_type": "code",
   "execution_count": 35,
   "id": "f187c03c-c533-4a15-ad18-f7ff4f138d51",
   "metadata": {},
   "outputs": [],
   "source": [
    "download_monthly_edits_combi('MUS')"
   ]
  },
  {
   "cell_type": "code",
   "execution_count": 36,
   "id": "5f6cfca5-54aa-4fba-9baa-4293b5ff04e5",
   "metadata": {},
   "outputs": [],
   "source": [
    "download_monthly_edits_combi('CYP')"
   ]
  },
  {
   "cell_type": "code",
   "execution_count": 37,
   "id": "0621e0bc-a888-4639-92ce-885466448d80",
   "metadata": {},
   "outputs": [],
   "source": [
    "download_monthly_edits_combi('MMR')"
   ]
  },
  {
   "cell_type": "code",
   "execution_count": 40,
   "id": "95939b2a-da2b-41e1-8267-e7f06776a6f1",
   "metadata": {},
   "outputs": [],
   "source": [
    "download_monthly_edits_combi('ZAF')"
   ]
  },
  {
   "cell_type": "code",
   "execution_count": 38,
   "id": "388dd3f6-8302-4126-9b8d-4fa88167bea1",
   "metadata": {},
   "outputs": [],
   "source": [
    "download_monthly_edits_combi('MLT')"
   ]
  },
  {
   "cell_type": "code",
   "execution_count": 41,
   "id": "3e2b667e-7ebc-4543-aaf1-cd6ca3e4b23a",
   "metadata": {},
   "outputs": [],
   "source": [
    "download_monthly_edits_combi('VEN')"
   ]
  },
  {
   "cell_type": "code",
   "execution_count": 42,
   "id": "1cbadccd-8e74-4018-b9a3-8966ec501816",
   "metadata": {},
   "outputs": [],
   "source": [
    "download_monthly_edits_combi('PHL')"
   ]
  },
  {
   "cell_type": "code",
   "execution_count": 43,
   "id": "85b9e104-3594-43a6-89fb-87168fafacbf",
   "metadata": {},
   "outputs": [],
   "source": [
    "download_monthly_edits_combi('PAK')"
   ]
  },
  {
   "cell_type": "code",
   "execution_count": 44,
   "id": "41e826dd-769c-4877-b937-bb78283796f1",
   "metadata": {},
   "outputs": [],
   "source": [
    "download_monthly_edits_combi('TZA')"
   ]
  },
  {
   "cell_type": "code",
   "execution_count": 45,
   "id": "6f94b3da-73d4-427b-9f78-3ea48b46357a",
   "metadata": {},
   "outputs": [],
   "source": [
    "download_monthly_edits_combi('BRA')"
   ]
  },
  {
   "cell_type": "code",
   "execution_count": 46,
   "id": "c4b6d347-fde6-4025-aa79-5861a1c6447d",
   "metadata": {},
   "outputs": [],
   "source": [
    "download_monthly_edits_combi('KWT')"
   ]
  },
  {
   "cell_type": "code",
   "execution_count": 47,
   "id": "b5ef45e8-bd22-48ae-81c9-4a1c3f83be8d",
   "metadata": {},
   "outputs": [],
   "source": [
    "download_monthly_edits_combi('IND')"
   ]
  },
  {
   "cell_type": "code",
   "execution_count": 48,
   "id": "e9158d36-8882-4667-b1c5-06f358f7cc6c",
   "metadata": {},
   "outputs": [],
   "source": [
    "download_monthly_edits_combi('MEX')"
   ]
  }
 ],
 "metadata": {
  "kernelspec": {
   "display_name": "Python 3 (ipykernel)",
   "language": "python",
   "name": "python3"
  },
  "language_info": {
   "codemirror_mode": {
    "name": "ipython",
    "version": 3
   },
   "file_extension": ".py",
   "mimetype": "text/x-python",
   "name": "python",
   "nbconvert_exporter": "python",
   "pygments_lexer": "ipython3",
   "version": "3.11.5"
  }
 },
 "nbformat": 4,
 "nbformat_minor": 5
}
