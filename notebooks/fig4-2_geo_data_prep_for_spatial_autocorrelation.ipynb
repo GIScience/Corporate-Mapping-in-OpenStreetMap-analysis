{
 "cells": [
  {
   "cell_type": "code",
   "execution_count": 1,
   "id": "cf90b9ca-ab60-47f9-8c07-7b6edab49d4a",
   "metadata": {},
   "outputs": [],
   "source": [
    "import pandas as pd\n",
    "import geopandas as gpd\n",
    "import numpy as np \n",
    "import matplotlib.pyplot as plt \n",
    "import duckdb"
   ]
  },
  {
   "cell_type": "code",
   "execution_count": 2,
   "id": "a357ef20-2081-4870-ae7a-62d176144d83",
   "metadata": {},
   "outputs": [],
   "source": [
    "col = pd.read_csv('col_mean_median_meta_hex_v2.csv')\n",
    "col = col.drop(columns={'Unnamed: 0'}).fillna(0)"
   ]
  },
  {
   "cell_type": "code",
   "execution_count": 3,
   "id": "4ed53ec2-55f1-419a-87b1-b23ff4e01c28",
   "metadata": {},
   "outputs": [],
   "source": [
    "are = pd.read_csv('are_mean_median_meta_hex_v2.csv')\n",
    "are = are.drop(columns={'Unnamed: 0'}).fillna(0)"
   ]
  },
  {
   "cell_type": "code",
   "execution_count": 4,
   "id": "ff4a5499-2e50-4147-8448-d87149c8ecaf",
   "metadata": {},
   "outputs": [],
   "source": [
    "idn = pd.read_csv(\"idn_combi_table_result_meta_v2.csv\")\n",
    "idn = idn.drop(columns={'Unnamed: 0'}).fillna(0)"
   ]
  },
  {
   "cell_type": "code",
   "execution_count": 5,
   "id": "cc975979-24e3-4dc1-bf59-2dad32495799",
   "metadata": {},
   "outputs": [],
   "source": [
    "kontur_are = gpd.read_file(r\"C:\\Users\\Lilly\\Documents\\Uni\\Heigit_Hiwi\\corporate_mappin\\extended_analysis\\data_download\\kontur_grid\\Kontur_grid_3x3_ARE.shp\")\n",
    "kontur_prep_are = kontur_are.rename(columns={'h3': 'name'})\n",
    "\n",
    "kontur_idn = gpd.read_file(r\"C:\\Users\\Lilly\\Documents\\Uni\\Heigit_Hiwi\\corporate_mappin\\extended_analysis\\data_download\\kontur_grid\\Kontur_grid_3x3_IDN.shp\")\n",
    "kontur_prep_idn = kontur_idn.rename(columns={'h3': 'name'})\n",
    "\n",
    "kontur_col = gpd.read_file(r\"C:\\Users\\Lilly\\Documents\\Uni\\Heigit_Hiwi\\corporate_mappin\\extended_analysis\\data_download\\kontur_grid\\Kontur_grid_3x3_COL.shp\")\n",
    "kontur_prep_col = kontur_col.rename(columns={'h3': 'name'})"
   ]
  },
  {
   "cell_type": "markdown",
   "id": "3cb22c82-7f34-4c76-9c4e-cc36e63793e8",
   "metadata": {},
   "source": [
    "### Colombia"
   ]
  },
  {
   "cell_type": "code",
   "execution_count": 6,
   "id": "b707e946-f53d-427d-9e20-6ea5fb03b074",
   "metadata": {},
   "outputs": [],
   "source": [
    "c2 = col.copy()"
   ]
  },
  {
   "cell_type": "code",
   "execution_count": 7,
   "id": "eef55f65-9ea0-4096-b485-1b3364db3fb9",
   "metadata": {},
   "outputs": [],
   "source": [
    "c2 = c2.fillna(0)"
   ]
  },
  {
   "cell_type": "code",
   "execution_count": 8,
   "id": "54888d06-67a8-4783-8ee7-807c40892426",
   "metadata": {},
   "outputs": [],
   "source": [
    "c2['diff_corpo'] = c2['t1_c_mean'] - c2['t0_c_mean']"
   ]
  },
  {
   "cell_type": "code",
   "execution_count": 9,
   "id": "34a5424c-b395-4fe9-945f-c01ae0fc2a86",
   "metadata": {},
   "outputs": [],
   "source": [
    "c2['diff_non_corpo'] = c2['t1_nc_mean'] - c2['t0_nc_mean']"
   ]
  },
  {
   "cell_type": "code",
   "execution_count": 11,
   "id": "71c8e969-8ea2-40e9-913a-1300c29b20f3",
   "metadata": {},
   "outputs": [],
   "source": [
    "kontur_COL_merge_c2 = pd.merge(c2, kontur_prep_col, on = 'name', how = 'left')"
   ]
  },
  {
   "cell_type": "code",
   "execution_count": 12,
   "id": "f2983de1-8f03-491c-baf4-2791faf20ba0",
   "metadata": {},
   "outputs": [],
   "source": [
    "kontur_COL_merge_c2_gdf = gpd.GeoDataFrame(kontur_COL_merge_c2, geometry = 'geometry')"
   ]
  },
  {
   "cell_type": "code",
   "execution_count": 13,
   "id": "5f0a9592-650d-4394-bb00-09fc5f376b79",
   "metadata": {},
   "outputs": [],
   "source": [
    "kontur_COL_merge_c2_gdf.to_file(\"col_mean_median_kontur_corpo_non_corpo_combi_with_meta_v2.geojson\", driver='GeoJSON')"
   ]
  },
  {
   "cell_type": "markdown",
   "id": "8c8a541c-e1f0-4ea7-a235-69d3ad48b2ee",
   "metadata": {},
   "source": [
    "## ARE"
   ]
  },
  {
   "cell_type": "code",
   "execution_count": 4,
   "id": "22024a94-40d9-4196-9ceb-662599a012a3",
   "metadata": {},
   "outputs": [],
   "source": [
    "a2 = are.copy()"
   ]
  },
  {
   "cell_type": "code",
   "execution_count": 5,
   "id": "b262eeb9-2f56-447d-ba97-28e6cb1ffa25",
   "metadata": {},
   "outputs": [],
   "source": [
    "a2 = a2.fillna(0)"
   ]
  },
  {
   "cell_type": "code",
   "execution_count": 6,
   "id": "d49aa855-c442-49fa-84a7-a07997d1538e",
   "metadata": {},
   "outputs": [],
   "source": [
    "a2['diff_corpo'] = a2['t1_c_mean'] - a2['t0_c_mean']"
   ]
  },
  {
   "cell_type": "code",
   "execution_count": 7,
   "id": "d5d0e980-e233-4753-9d89-910403608386",
   "metadata": {},
   "outputs": [],
   "source": [
    "a2['diff_non_corpo'] = a2['t1_nc_mean'] - a2['t0_nc_mean']"
   ]
  },
  {
   "cell_type": "code",
   "execution_count": 11,
   "id": "7c30fa9c-a1ef-4915-a8db-34a60e2b4436",
   "metadata": {},
   "outputs": [],
   "source": [
    "kontur_ARE_merge_a2 = pd.merge(a2, kontur_prep_are, on = 'name', how = 'left')"
   ]
  },
  {
   "cell_type": "code",
   "execution_count": 12,
   "id": "bf88e3b8-3f75-435b-a0fd-9ff65d5688f2",
   "metadata": {},
   "outputs": [],
   "source": [
    "kontur_ARE_merge_a2_gdf = gpd.GeoDataFrame(kontur_ARE_merge_a2, geometry = 'geometry')"
   ]
  },
  {
   "cell_type": "code",
   "execution_count": 13,
   "id": "4e2551cd-9fa9-42b7-ad63-5205e6005219",
   "metadata": {},
   "outputs": [],
   "source": [
    "kontur_ARE_merge_a2_gdf.to_file(\"are_mean_median_kontur_corpo_non_corpo_combi_withMeta.geojson\", driver='GeoJSON')"
   ]
  },
  {
   "cell_type": "markdown",
   "id": "d01d154c-fbfe-486f-9afc-0eee69070b32",
   "metadata": {},
   "source": [
    "## Indonesia"
   ]
  },
  {
   "cell_type": "code",
   "execution_count": 15,
   "id": "00e6a79f-d16d-4760-b57a-be93c606a125",
   "metadata": {},
   "outputs": [],
   "source": [
    "i2 = idn.copy()"
   ]
  },
  {
   "cell_type": "code",
   "execution_count": 16,
   "id": "817a7b86-7f72-455d-b57a-f2d0921b159a",
   "metadata": {},
   "outputs": [],
   "source": [
    "i2 = i2.fillna(0)"
   ]
  },
  {
   "cell_type": "code",
   "execution_count": 17,
   "id": "859c0463-8a6a-4697-9594-049958a55041",
   "metadata": {},
   "outputs": [],
   "source": [
    "i2['diff_corpo'] = i2['t1_c_mean'] - i2['t0_c_mean']"
   ]
  },
  {
   "cell_type": "code",
   "execution_count": 18,
   "id": "6dbff046-d1ec-44f8-8daf-ad83a218229f",
   "metadata": {},
   "outputs": [],
   "source": [
    "i2['diff_non_corpo'] = i2['t1_nc_mean'] - i2['t0_nc_mean']"
   ]
  },
  {
   "cell_type": "code",
   "execution_count": 20,
   "id": "28df1655-ff81-4fae-b4e1-7c4a3200f5bb",
   "metadata": {},
   "outputs": [],
   "source": [
    "kontur_IDN_merge_i2 = pd.merge(i2, kontur_prep_idn, on = 'name', how = 'left')"
   ]
  },
  {
   "cell_type": "code",
   "execution_count": 21,
   "id": "df59921a-ae63-4ff6-a348-805470b8a524",
   "metadata": {},
   "outputs": [],
   "source": [
    "kontur_IDN_merge_i2_gdf = gpd.GeoDataFrame(kontur_IDN_merge_i2, geometry = 'geometry')"
   ]
  },
  {
   "cell_type": "code",
   "execution_count": 22,
   "id": "e0e17bb1-e1f7-44bd-9d06-82908ab5116e",
   "metadata": {},
   "outputs": [],
   "source": [
    "kontur_IDN_merge_i2_gdf.to_file(\"idn_mean_median_kontur_corpo_non_corpo_combi_withMeta_v2.geojson\", driver='GeoJSON')"
   ]
  }
 ],
 "metadata": {
  "kernelspec": {
   "display_name": "Python 3 (ipykernel)",
   "language": "python",
   "name": "python3"
  },
  "language_info": {
   "codemirror_mode": {
    "name": "ipython",
    "version": 3
   },
   "file_extension": ".py",
   "mimetype": "text/x-python",
   "name": "python",
   "nbconvert_exporter": "python",
   "pygments_lexer": "ipython3",
   "version": "3.11.5"
  }
 },
 "nbformat": 4,
 "nbformat_minor": 5
}
