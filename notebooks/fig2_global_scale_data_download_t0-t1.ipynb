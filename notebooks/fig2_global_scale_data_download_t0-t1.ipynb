{
 "cells": [
  {
   "cell_type": "code",
   "execution_count": 1,
   "id": "fa8d2092-7765-46c1-b0ea-76d5f80fca91",
   "metadata": {},
   "outputs": [],
   "source": [
    "import pandas as pd\n",
    "import geopandas as gpd\n",
    "import numpy as np \n",
    "import matplotlib.pyplot as plt \n",
    "import duckdb\n",
    "import shapely.wkb\n",
    "from shapely.wkb import loads\n",
    "\n",
    "import glob\n",
    "import os"
   ]
  },
  {
   "cell_type": "code",
   "execution_count": 2,
   "id": "9e1d3536-7e07-46bc-8a95-19f47512393c",
   "metadata": {},
   "outputs": [],
   "source": [
    "#data files\n",
    "db = duckdb.read_parquet(r\"D:\\Datenbank\\ohsome-stats-yearly\\year=*\\month=*\\*.parquet\", hive_partitioning=1) "
   ]
  },
  {
   "cell_type": "code",
   "execution_count": 3,
   "id": "d50f757c-f850-4058-aea8-d6ea8a52c88a",
   "metadata": {},
   "outputs": [],
   "source": [
    "hashtag_list = ['amap', 'adt', 'bolt', 'DigitalEgypt', 'expedia', 'gojek', 'MSFTOpenMaps', 'grab', 'Kaart', 'Kontur', 'mbx', 'RocketData',\n",
    "                'disputed_by_claimed_by', 'Snapp', 'stackbox', 'Telenav', 'Lightcyphers', 'tomtom', 'TIDBO', 'WIGeoGIS-OMV', 'نشان',\n",
    "                'mapbox', 'Komoot', 'AppLogica']"
   ]
  },
  {
   "cell_type": "code",
   "execution_count": 4,
   "id": "3d78b16f-8d68-4a21-b922-ee881419f670",
   "metadata": {},
   "outputs": [],
   "source": [
    "# Specify the directory where your Excel files are located\n",
    "directory_path =  r\"C:\\Users\\lilly\\Documents\\bachelorarbeit\\analysis\\UserNameID-v2\"\n",
    "\n",
    "# Get a list of all Excel files in the directory\n",
    "excel_files = glob.glob(os.path.join(directory_path, \"*.xls\"))\n",
    "\n",
    "# Create an empty dictionary to store DataFrames\n",
    "dataframes_dict = {}\n",
    "\n",
    "# Read each Excel file and store its DataFrame in the dictionary - files saved as xldr - otherwise when saved as csv, other method applicable\n",
    "for excel_file in excel_files:\n",
    "    filename = os.path.basename(excel_file)\n",
    "    df = pd.read_csv(excel_file) \n",
    "    dataframes_dict[filename] = df"
   ]
  },
  {
   "cell_type": "code",
   "execution_count": 5,
   "id": "81b73e02-d4ad-48f5-802e-13dd166819e0",
   "metadata": {},
   "outputs": [],
   "source": [
    "# get the user-ids in working format\n",
    "def getListID(filename):\n",
    "    df = dataframes_dict[filename]\n",
    "    CorpoId = df['User ID']\n",
    "    user_ids_str = ','.join([f\"'{id}'\" for id in CorpoId])\n",
    "    return user_ids_str\n",
    "\n",
    "Meta = getListID(\"MetaUser.xls\")"
   ]
  },
  {
   "cell_type": "code",
   "execution_count": 6,
   "id": "9af03a2d-102c-47d7-ae36-2ae55f97b689",
   "metadata": {},
   "outputs": [],
   "source": [
    "def generate_ce_statement_meta(hashtags_list):\n",
    "    # Construct the dynamic CE statement based on the list of hashtags\n",
    "    ce_statement = \" OR \".join([f\"hashtags ILIKE '%{tag}%'\" for tag in hashtags_list]) + f\"OR user_id IN ({Meta})\"\n",
    "    return ce_statement"
   ]
  },
  {
   "cell_type": "code",
   "execution_count": 7,
   "id": "4decf6b5-6cca-452d-8661-52d5c99aacf9",
   "metadata": {},
   "outputs": [],
   "source": [
    "corporate_where = generate_ce_statement_meta(hashtag_list)"
   ]
  },
  {
   "cell_type": "code",
   "execution_count": 2,
   "id": "91a12ddf-ea71-4d48-a788-1660915b22a1",
   "metadata": {},
   "outputs": [],
   "source": [
    "b3 = gpd.read_file(r\"C:\\Users\\Lilly\\Downloads\\world-administrative-boundaries\\world-administrative-boundaries.shp\")"
   ]
  },
  {
   "cell_type": "code",
   "execution_count": 35,
   "id": "705bca12-a565-43e8-9581-79b9d0b61a0e",
   "metadata": {},
   "outputs": [],
   "source": [
    "border = b3[['iso3', 'geometry']]\n",
    "border = border.rename(columns={'iso3': 'ISO_A3'})"
   ]
  },
  {
   "cell_type": "markdown",
   "id": "943bf211-4164-4824-b0db-26fae4d929ef",
   "metadata": {},
   "source": [
    "**TOTAL**"
   ]
  },
  {
   "cell_type": "code",
   "execution_count": 14,
   "id": "cac13314-81eb-47a8-954b-1f1e3a32a5a0",
   "metadata": {
    "scrolled": true
   },
   "outputs": [
    {
     "name": "stdout",
     "output_type": "stream",
     "text": [
      "┌─────────┬────────┬─────────┬─────────┐\n",
      "│ ISO_A3  │ total  │  year   │  month  │\n",
      "│ varchar │ int64  │ varchar │ varchar │\n",
      "├─────────┼────────┼─────────┼─────────┤\n",
      "│ ZMB     │ 112133 │ 2022    │ 3       │\n",
      "│ LAO     │   2317 │ 2022    │ 3       │\n",
      "│ BOL     │  43184 │ 2022    │ 3       │\n",
      "│ MDV     │   2610 │ 2022    │ 3       │\n",
      "│ WSM     │    170 │ 2022    │ 3       │\n",
      "│ GIN     │   6439 │ 2022    │ 3       │\n",
      "│ LKA     │   8386 │ 2022    │ 3       │\n",
      "│ SLE     │  34366 │ 2022    │ 3       │\n",
      "│ NOR     │ 137800 │ 2022    │ 4       │\n",
      "│ SVN     │  46407 │ 2022    │ 4       │\n",
      "│  ·      │      · │  ·      │ ·       │\n",
      "│  ·      │      · │  ·      │ ·       │\n",
      "│  ·      │      · │  ·      │ ·       │\n",
      "│ COM     │     46 │ 2021    │ 5       │\n",
      "│ LKA     │  59289 │ 2022    │ 11      │\n",
      "│ HND     │   1855 │ 2022    │ 12      │\n",
      "│ HRV     │  37977 │ 2022    │ 2       │\n",
      "│ BGR     │  14140 │ 2020    │ 7       │\n",
      "│ CAN     │ 294966 │ 2021    │ 8       │\n",
      "│ SLE     │   3820 │ 2022    │ 2       │\n",
      "│ GRC     │ 480838 │ 2021    │ 7       │\n",
      "│ ITA     │ 410723 │ 2021    │ 7       │\n",
      "│ ECU     │  13319 │ 2020    │ 4       │\n",
      "├─────────┴────────┴─────────┴─────────┤\n",
      "│    ? rows (>9999 rows, 20 shown)     │\n",
      "└──────────────────────────────────────┘\n",
      "\n"
     ]
    }
   ],
   "source": [
    "country_total = duckdb.sql(\"\"\"\n",
    "    SELECT country AS ISO_A3, COUNT(*) AS total, year, month\n",
    "    FROM db\n",
    "    WHERE year > 2018 \n",
    "    GROUP BY ISO_A3, year, month\n",
    "\n",
    "\"\"\")\n",
    "country_total.show()\n",
    "country_total_df = country_total.to_df()"
   ]
  },
  {
   "cell_type": "code",
   "execution_count": 15,
   "id": "01cfaf79-ce19-4d1e-aaaf-6955254a6625",
   "metadata": {},
   "outputs": [],
   "source": [
    "country_total_df.to_csv('fig2_absolute_country_edits_monthly_raw.csv', header = True)"
   ]
  },
  {
   "cell_type": "code",
   "execution_count": 4,
   "id": "d819171e-3ade-4a33-bbac-30dcf18063ca",
   "metadata": {},
   "outputs": [],
   "source": [
    "country_total_df = pd.read_csv('fig2_absolute_country_edits_monthly_raw.csv')"
   ]
  },
  {
   "cell_type": "code",
   "execution_count": 6,
   "id": "a33eaa0a-6672-4c93-ad7e-c0a410f077d5",
   "metadata": {},
   "outputs": [],
   "source": [
    "country_total_df = country_total_df.drop(columns='Unnamed: 0')"
   ]
  },
  {
   "cell_type": "code",
   "execution_count": 7,
   "id": "da3c9c58-845f-4823-a31b-f88fded21a10",
   "metadata": {},
   "outputs": [],
   "source": [
    "df_total = country_total_df.copy()"
   ]
  },
  {
   "cell_type": "code",
   "execution_count": 8,
   "id": "3773a7ff-5dc6-4ad5-9b83-e48eb0651db8",
   "metadata": {},
   "outputs": [],
   "source": [
    "df_total[\"time\"] = df_total[\"year\"].astype(str) + '-' + df_total[\"month\"].astype(str) #creating a new column 'time', combining both month and year\n",
    "# adjusting the format of the 'time' column to be able to adjust in the correct order with 'ascending'\n",
    "df_total['time'] = pd.to_datetime(df_total['time'], format='%Y-%m') \n",
    "df_total['time'] = df_total['time'].dt.to_period('M')\n"
   ]
  },
  {
   "cell_type": "code",
   "execution_count": 9,
   "id": "360d5127-e038-4c84-a0d6-b36d673c7148",
   "metadata": {},
   "outputs": [],
   "source": [
    "df_total = df_total.drop(columns={'year', 'month'})"
   ]
  },
  {
   "cell_type": "code",
   "execution_count": 10,
   "id": "739eb543-927e-40bb-92f9-fc8444b4157b",
   "metadata": {},
   "outputs": [],
   "source": [
    "df_total = df_total.sort_values(by=['time'], ascending=True).loc[df_total['time']<'2023-07']"
   ]
  },
  {
   "cell_type": "code",
   "execution_count": 11,
   "id": "a5bf9d9b-4f04-4314-bac8-b291fb6c8832",
   "metadata": {},
   "outputs": [],
   "source": [
    "df_total = df_total.loc[df_total['time']>'2019-05']"
   ]
  },
  {
   "cell_type": "code",
   "execution_count": 12,
   "id": "bd201a2b-7bdb-4f70-9da7-65b09fc22fac",
   "metadata": {},
   "outputs": [],
   "source": [
    "total = df_total.copy()\n",
    "total = total.drop(columns={'time'})"
   ]
  },
  {
   "cell_type": "code",
   "execution_count": 13,
   "id": "11bba5f2-b17b-48a0-88ef-1b5ce5295480",
   "metadata": {},
   "outputs": [],
   "source": [
    "total = total.groupby('ISO_A3').sum()"
   ]
  },
  {
   "cell_type": "code",
   "execution_count": 14,
   "id": "d3f58efe-e176-4510-916f-cc1024c8c1ae",
   "metadata": {
    "scrolled": true
   },
   "outputs": [
    {
     "data": {
      "text/html": [
       "<div>\n",
       "<style scoped>\n",
       "    .dataframe tbody tr th:only-of-type {\n",
       "        vertical-align: middle;\n",
       "    }\n",
       "\n",
       "    .dataframe tbody tr th {\n",
       "        vertical-align: top;\n",
       "    }\n",
       "\n",
       "    .dataframe thead th {\n",
       "        text-align: right;\n",
       "    }\n",
       "</style>\n",
       "<table border=\"1\" class=\"dataframe\">\n",
       "  <thead>\n",
       "    <tr style=\"text-align: right;\">\n",
       "      <th></th>\n",
       "      <th>total</th>\n",
       "    </tr>\n",
       "    <tr>\n",
       "      <th>ISO_A3</th>\n",
       "      <th></th>\n",
       "    </tr>\n",
       "  </thead>\n",
       "  <tbody>\n",
       "    <tr>\n",
       "      <th>USA</th>\n",
       "      <td>167025695</td>\n",
       "    </tr>\n",
       "    <tr>\n",
       "      <th>DEU</th>\n",
       "      <td>75883752</td>\n",
       "    </tr>\n",
       "    <tr>\n",
       "      <th>FRA</th>\n",
       "      <td>52754006</td>\n",
       "    </tr>\n",
       "    <tr>\n",
       "      <th>RUS</th>\n",
       "      <td>41587488</td>\n",
       "    </tr>\n",
       "    <tr>\n",
       "      <th>IDN</th>\n",
       "      <td>38793596</td>\n",
       "    </tr>\n",
       "    <tr>\n",
       "      <th>GBR</th>\n",
       "      <td>35714606</td>\n",
       "    </tr>\n",
       "    <tr>\n",
       "      <th>POL</th>\n",
       "      <td>34486362</td>\n",
       "    </tr>\n",
       "    <tr>\n",
       "      <th>BRA</th>\n",
       "      <td>31709726</td>\n",
       "    </tr>\n",
       "    <tr>\n",
       "      <th>JPN</th>\n",
       "      <td>26543286</td>\n",
       "    </tr>\n",
       "    <tr>\n",
       "      <th>IND</th>\n",
       "      <td>26146765</td>\n",
       "    </tr>\n",
       "    <tr>\n",
       "      <th>ITA</th>\n",
       "      <td>21319784</td>\n",
       "    </tr>\n",
       "    <tr>\n",
       "      <th>CAN</th>\n",
       "      <td>20338645</td>\n",
       "    </tr>\n",
       "    <tr>\n",
       "      <th>ESP</th>\n",
       "      <td>19636676</td>\n",
       "    </tr>\n",
       "    <tr>\n",
       "      <th>CHN</th>\n",
       "      <td>19099688</td>\n",
       "    </tr>\n",
       "    <tr>\n",
       "      <th>MEX</th>\n",
       "      <td>18922786</td>\n",
       "    </tr>\n",
       "    <tr>\n",
       "      <th>TZA</th>\n",
       "      <td>16147093</td>\n",
       "    </tr>\n",
       "    <tr>\n",
       "      <th>NGA</th>\n",
       "      <td>15239770</td>\n",
       "    </tr>\n",
       "    <tr>\n",
       "      <th>NLD</th>\n",
       "      <td>15093635</td>\n",
       "    </tr>\n",
       "    <tr>\n",
       "      <th>PHL</th>\n",
       "      <td>14986628</td>\n",
       "    </tr>\n",
       "    <tr>\n",
       "      <th>UKR</th>\n",
       "      <td>13892869</td>\n",
       "    </tr>\n",
       "  </tbody>\n",
       "</table>\n",
       "</div>"
      ],
      "text/plain": [
       "            total\n",
       "ISO_A3           \n",
       "USA     167025695\n",
       "DEU      75883752\n",
       "FRA      52754006\n",
       "RUS      41587488\n",
       "IDN      38793596\n",
       "GBR      35714606\n",
       "POL      34486362\n",
       "BRA      31709726\n",
       "JPN      26543286\n",
       "IND      26146765\n",
       "ITA      21319784\n",
       "CAN      20338645\n",
       "ESP      19636676\n",
       "CHN      19099688\n",
       "MEX      18922786\n",
       "TZA      16147093\n",
       "NGA      15239770\n",
       "NLD      15093635\n",
       "PHL      14986628\n",
       "UKR      13892869"
      ]
     },
     "execution_count": 14,
     "metadata": {},
     "output_type": "execute_result"
    }
   ],
   "source": [
    "total.sort_values(by ='total', ascending = False).head(20)"
   ]
  },
  {
   "cell_type": "markdown",
   "id": "cfb08f80-66de-47dd-8599-76549d093181",
   "metadata": {},
   "source": [
    "**CORPORATE**"
   ]
  },
  {
   "cell_type": "code",
   "execution_count": 10,
   "id": "5de3c6b4-b6d8-438d-b6e8-5ef992a807f7",
   "metadata": {
    "scrolled": true
   },
   "outputs": [
    {
     "name": "stdout",
     "output_type": "stream",
     "text": [
      "┌─────────┬───────┬─────────┬─────────┐\n",
      "│ ISO_A3  │ total │  year   │  month  │\n",
      "│ varchar │ int64 │ varchar │ varchar │\n",
      "├─────────┼───────┼─────────┼─────────┤\n",
      "│ GMB     │    73 │ 2022    │ 1       │\n",
      "│ ALB     │   865 │ 2022    │ 1       │\n",
      "│ CIV     │   417 │ 2022    │ 1       │\n",
      "│ SLE     │    50 │ 2022    │ 1       │\n",
      "│ NER     │    24 │ 2022    │ 1       │\n",
      "│ LBN     │  4112 │ 2022    │ 1       │\n",
      "│ MSR     │     7 │ 2022    │ 1       │\n",
      "│ FLK     │     1 │ 2022    │ 1       │\n",
      "│ KHM     │   226 │ 2022    │ 1       │\n",
      "│ MOZ     │   149 │ 2022    │ 1       │\n",
      "│  ·      │     · │  ·      │ ·       │\n",
      "│  ·      │     · │  ·      │ ·       │\n",
      "│  ·      │     · │  ·      │ ·       │\n",
      "│ GUY     │    32 │ 2023    │ 6       │\n",
      "│ BTN     │    12 │ 2023    │ 6       │\n",
      "│ STP     │     3 │ 2023    │ 8       │\n",
      "│ VUT     │     3 │ 2023    │ 5       │\n",
      "│ VGB     │     4 │ 2023    │ 8       │\n",
      "│ STP     │     1 │ 2023    │ 4       │\n",
      "│ MUS     │    25 │ 2023    │ 2       │\n",
      "│ MDV     │     9 │ 2023    │ 4       │\n",
      "│ TCA     │     2 │ 2023    │ 4       │\n",
      "│ NRU     │     9 │ 2023    │ 8       │\n",
      "├─────────┴───────┴─────────┴─────────┤\n",
      "│ 8567 rows (20 shown)      4 columns │\n",
      "└─────────────────────────────────────┘\n",
      "\n"
     ]
    }
   ],
   "source": [
    "corporate_country = duckdb.sql(f\"\"\"\n",
    "    SELECT country AS ISO_A3, COUNT(*) AS total, year, month\n",
    "    FROM db\n",
    "    WHERE ({corporate_where}) AND year > 2018 \n",
    "    GROUP BY ISO_A3, year, month\n",
    "\n",
    "\"\"\")\n",
    "corporate_country.show()\n",
    "corporate_country_df = corporate_country.to_df()"
   ]
  },
  {
   "cell_type": "code",
   "execution_count": 11,
   "id": "b95e2b71-41fc-4bd3-b9f8-8a62ad050d65",
   "metadata": {},
   "outputs": [],
   "source": [
    "corporate_country_df.to_csv('fig2_corporate_country_edits_monthly_raw.csv', header = True)"
   ]
  },
  {
   "cell_type": "code",
   "execution_count": 17,
   "id": "7bb49853-8ff4-4d88-85fc-794b206768e7",
   "metadata": {},
   "outputs": [],
   "source": [
    "corporate_country_df = pd.read_csv('fig2_corporate_country_edits_monthly_raw.csv')\n",
    "corporate_country_df = corporate_country_df.drop(columns={'Unnamed: 0'})"
   ]
  },
  {
   "cell_type": "code",
   "execution_count": 18,
   "id": "9f143ab1-9e52-4024-832b-770af720fa65",
   "metadata": {},
   "outputs": [],
   "source": [
    "df_corporate = corporate_country_df.copy()"
   ]
  },
  {
   "cell_type": "code",
   "execution_count": 19,
   "id": "eb2f7048-6c1a-45c9-bc3c-8f6c095f0ae7",
   "metadata": {},
   "outputs": [],
   "source": [
    "df_corporate[\"time\"] = df_corporate[\"year\"].astype(str) + '-' + df_corporate[\"month\"].astype(str) #creating a new column 'time', combining both month and year\n",
    "# adjusting the format of the 'time' column to be able to adjust in the correct order with 'ascending'\n",
    "df_corporate['time'] = pd.to_datetime(df_corporate['time'], format='%Y-%m') \n",
    "df_corporate['time'] = df_corporate['time'].dt.to_period('M')\n"
   ]
  },
  {
   "cell_type": "code",
   "execution_count": 20,
   "id": "19330398-f7e9-4496-b87d-4656a7dbc2b8",
   "metadata": {},
   "outputs": [],
   "source": [
    "df_corporate = df_corporate.drop(columns={'year', 'month'})"
   ]
  },
  {
   "cell_type": "code",
   "execution_count": 21,
   "id": "9c050951-5dd6-4fb5-8581-4abd657867d4",
   "metadata": {},
   "outputs": [],
   "source": [
    "df_corporate = df_corporate.sort_values(by=['time'], ascending=True).loc[df_corporate['time']<'2023-07']"
   ]
  },
  {
   "cell_type": "code",
   "execution_count": 23,
   "id": "7a9a671f-10b0-4d32-b2c5-f55766976d5b",
   "metadata": {},
   "outputs": [],
   "source": [
    "df_corporate = df_corporate.loc[df_corporate['time']>'2019-05']"
   ]
  },
  {
   "cell_type": "code",
   "execution_count": 24,
   "id": "776ceb7b-f5a9-4395-8ca1-9aa5e7acd7d0",
   "metadata": {},
   "outputs": [
    {
     "data": {
      "text/html": [
       "<div>\n",
       "<style scoped>\n",
       "    .dataframe tbody tr th:only-of-type {\n",
       "        vertical-align: middle;\n",
       "    }\n",
       "\n",
       "    .dataframe tbody tr th {\n",
       "        vertical-align: top;\n",
       "    }\n",
       "\n",
       "    .dataframe thead th {\n",
       "        text-align: right;\n",
       "    }\n",
       "</style>\n",
       "<table border=\"1\" class=\"dataframe\">\n",
       "  <thead>\n",
       "    <tr style=\"text-align: right;\">\n",
       "      <th></th>\n",
       "      <th>ISO_A3</th>\n",
       "      <th>total</th>\n",
       "      <th>time</th>\n",
       "    </tr>\n",
       "  </thead>\n",
       "  <tbody>\n",
       "    <tr>\n",
       "      <th>8368</th>\n",
       "      <td>TKM</td>\n",
       "      <td>390</td>\n",
       "      <td>2019-06</td>\n",
       "    </tr>\n",
       "    <tr>\n",
       "      <th>6106</th>\n",
       "      <td>BRB</td>\n",
       "      <td>22</td>\n",
       "      <td>2019-06</td>\n",
       "    </tr>\n",
       "    <tr>\n",
       "      <th>8367</th>\n",
       "      <td>UGA</td>\n",
       "      <td>6</td>\n",
       "      <td>2019-06</td>\n",
       "    </tr>\n",
       "    <tr>\n",
       "      <th>8370</th>\n",
       "      <td>NZL</td>\n",
       "      <td>9</td>\n",
       "      <td>2019-06</td>\n",
       "    </tr>\n",
       "    <tr>\n",
       "      <th>7787</th>\n",
       "      <td>MLT</td>\n",
       "      <td>1</td>\n",
       "      <td>2019-06</td>\n",
       "    </tr>\n",
       "    <tr>\n",
       "      <th>...</th>\n",
       "      <td>...</td>\n",
       "      <td>...</td>\n",
       "      <td>...</td>\n",
       "    </tr>\n",
       "    <tr>\n",
       "      <th>7409</th>\n",
       "      <td>NZL</td>\n",
       "      <td>165</td>\n",
       "      <td>2023-06</td>\n",
       "    </tr>\n",
       "    <tr>\n",
       "      <th>6919</th>\n",
       "      <td>TCD</td>\n",
       "      <td>114</td>\n",
       "      <td>2023-06</td>\n",
       "    </tr>\n",
       "    <tr>\n",
       "      <th>6918</th>\n",
       "      <td>KHM</td>\n",
       "      <td>2708</td>\n",
       "      <td>2023-06</td>\n",
       "    </tr>\n",
       "    <tr>\n",
       "      <th>6917</th>\n",
       "      <td>NER</td>\n",
       "      <td>135</td>\n",
       "      <td>2023-06</td>\n",
       "    </tr>\n",
       "    <tr>\n",
       "      <th>6892</th>\n",
       "      <td>TCA</td>\n",
       "      <td>4</td>\n",
       "      <td>2023-06</td>\n",
       "    </tr>\n",
       "  </tbody>\n",
       "</table>\n",
       "<p>7702 rows × 3 columns</p>\n",
       "</div>"
      ],
      "text/plain": [
       "     ISO_A3  total     time\n",
       "8368    TKM    390  2019-06\n",
       "6106    BRB     22  2019-06\n",
       "8367    UGA      6  2019-06\n",
       "8370    NZL      9  2019-06\n",
       "7787    MLT      1  2019-06\n",
       "...     ...    ...      ...\n",
       "7409    NZL    165  2023-06\n",
       "6919    TCD    114  2023-06\n",
       "6918    KHM   2708  2023-06\n",
       "6917    NER    135  2023-06\n",
       "6892    TCA      4  2023-06\n",
       "\n",
       "[7702 rows x 3 columns]"
      ]
     },
     "execution_count": 24,
     "metadata": {},
     "output_type": "execute_result"
    }
   ],
   "source": [
    "df_corporate"
   ]
  },
  {
   "cell_type": "code",
   "execution_count": 25,
   "id": "46cb72bc-69c8-4f32-9df2-f27abba000c5",
   "metadata": {},
   "outputs": [],
   "source": [
    "corporate = df_corporate.copy()\n",
    "corporate = corporate.drop(columns={'time'})"
   ]
  },
  {
   "cell_type": "code",
   "execution_count": 26,
   "id": "92d0bb55-2a43-4170-be64-80b4b83bed51",
   "metadata": {},
   "outputs": [],
   "source": [
    "corporate = corporate.groupby('ISO_A3').sum()"
   ]
  },
  {
   "cell_type": "code",
   "execution_count": 27,
   "id": "6ddd07a4-f3d0-4966-bddc-9aa3ff3069c4",
   "metadata": {},
   "outputs": [
    {
     "data": {
      "text/html": [
       "<div>\n",
       "<style scoped>\n",
       "    .dataframe tbody tr th:only-of-type {\n",
       "        vertical-align: middle;\n",
       "    }\n",
       "\n",
       "    .dataframe tbody tr th {\n",
       "        vertical-align: top;\n",
       "    }\n",
       "\n",
       "    .dataframe thead th {\n",
       "        text-align: right;\n",
       "    }\n",
       "</style>\n",
       "<table border=\"1\" class=\"dataframe\">\n",
       "  <thead>\n",
       "    <tr style=\"text-align: right;\">\n",
       "      <th></th>\n",
       "      <th>total</th>\n",
       "    </tr>\n",
       "    <tr>\n",
       "      <th>ISO_A3</th>\n",
       "      <th></th>\n",
       "    </tr>\n",
       "  </thead>\n",
       "  <tbody>\n",
       "    <tr>\n",
       "      <th>IDN</th>\n",
       "      <td>13883393</td>\n",
       "    </tr>\n",
       "    <tr>\n",
       "      <th>MEX</th>\n",
       "      <td>12915669</td>\n",
       "    </tr>\n",
       "    <tr>\n",
       "      <th>IND</th>\n",
       "      <td>10995041</td>\n",
       "    </tr>\n",
       "    <tr>\n",
       "      <th>BRA</th>\n",
       "      <td>10129313</td>\n",
       "    </tr>\n",
       "    <tr>\n",
       "      <th>USA</th>\n",
       "      <td>6723148</td>\n",
       "    </tr>\n",
       "    <tr>\n",
       "      <th>TZA</th>\n",
       "      <td>4917891</td>\n",
       "    </tr>\n",
       "    <tr>\n",
       "      <th>VNM</th>\n",
       "      <td>4077101</td>\n",
       "    </tr>\n",
       "    <tr>\n",
       "      <th>PHL</th>\n",
       "      <td>3729634</td>\n",
       "    </tr>\n",
       "    <tr>\n",
       "      <th>COL</th>\n",
       "      <td>3002557</td>\n",
       "    </tr>\n",
       "    <tr>\n",
       "      <th>CHL</th>\n",
       "      <td>2798311</td>\n",
       "    </tr>\n",
       "    <tr>\n",
       "      <th>MYS</th>\n",
       "      <td>2749320</td>\n",
       "    </tr>\n",
       "    <tr>\n",
       "      <th>GRC</th>\n",
       "      <td>2377600</td>\n",
       "    </tr>\n",
       "    <tr>\n",
       "      <th>RUS</th>\n",
       "      <td>1981848</td>\n",
       "    </tr>\n",
       "    <tr>\n",
       "      <th>ARE</th>\n",
       "      <td>1451016</td>\n",
       "    </tr>\n",
       "    <tr>\n",
       "      <th>ZAF</th>\n",
       "      <td>1384961</td>\n",
       "    </tr>\n",
       "    <tr>\n",
       "      <th>UKR</th>\n",
       "      <td>994397</td>\n",
       "    </tr>\n",
       "    <tr>\n",
       "      <th>URY</th>\n",
       "      <td>743692</td>\n",
       "    </tr>\n",
       "    <tr>\n",
       "      <th>PER</th>\n",
       "      <td>615694</td>\n",
       "    </tr>\n",
       "    <tr>\n",
       "      <th>PAK</th>\n",
       "      <td>599322</td>\n",
       "    </tr>\n",
       "    <tr>\n",
       "      <th>NGA</th>\n",
       "      <td>599114</td>\n",
       "    </tr>\n",
       "  </tbody>\n",
       "</table>\n",
       "</div>"
      ],
      "text/plain": [
       "           total\n",
       "ISO_A3          \n",
       "IDN     13883393\n",
       "MEX     12915669\n",
       "IND     10995041\n",
       "BRA     10129313\n",
       "USA      6723148\n",
       "TZA      4917891\n",
       "VNM      4077101\n",
       "PHL      3729634\n",
       "COL      3002557\n",
       "CHL      2798311\n",
       "MYS      2749320\n",
       "GRC      2377600\n",
       "RUS      1981848\n",
       "ARE      1451016\n",
       "ZAF      1384961\n",
       "UKR       994397\n",
       "URY       743692\n",
       "PER       615694\n",
       "PAK       599322\n",
       "NGA       599114"
      ]
     },
     "execution_count": 27,
     "metadata": {},
     "output_type": "execute_result"
    }
   ],
   "source": [
    "corporate.sort_values(by ='total', ascending = False).head(20)"
   ]
  },
  {
   "cell_type": "code",
   "execution_count": 28,
   "id": "b5beb4ac-80a1-492e-9e89-0aaca461f49f",
   "metadata": {},
   "outputs": [],
   "source": [
    "corporate = corporate.rename(columns={'total':'corporate'})\n"
   ]
  },
  {
   "cell_type": "markdown",
   "id": "08fee70e-03b9-45ad-85fe-fbe47a7fa117",
   "metadata": {},
   "source": [
    "**GeoJSON**"
   ]
  },
  {
   "cell_type": "code",
   "execution_count": 29,
   "id": "67739f6e-1988-4772-a891-dc337edb535b",
   "metadata": {},
   "outputs": [],
   "source": [
    "combi = pd.merge(total, corporate, on = 'ISO_A3', how = 'left')\n",
    "combi['percentage'] = (combi['corporate'] / combi['total'])*100"
   ]
  },
  {
   "cell_type": "code",
   "execution_count": 30,
   "id": "8679cdbb-ae7a-47d7-a0d0-bbadd57fd1d1",
   "metadata": {},
   "outputs": [],
   "source": [
    "combi = combi.reset_index()"
   ]
  },
  {
   "cell_type": "code",
   "execution_count": 32,
   "id": "da1e4d96-d01f-4875-9653-fae83a5025f4",
   "metadata": {},
   "outputs": [
    {
     "data": {
      "text/html": [
       "<div>\n",
       "<style scoped>\n",
       "    .dataframe tbody tr th:only-of-type {\n",
       "        vertical-align: middle;\n",
       "    }\n",
       "\n",
       "    .dataframe tbody tr th {\n",
       "        vertical-align: top;\n",
       "    }\n",
       "\n",
       "    .dataframe thead th {\n",
       "        text-align: right;\n",
       "    }\n",
       "</style>\n",
       "<table border=\"1\" class=\"dataframe\">\n",
       "  <thead>\n",
       "    <tr style=\"text-align: right;\">\n",
       "      <th></th>\n",
       "      <th>ISO_A3</th>\n",
       "      <th>total</th>\n",
       "      <th>corporate</th>\n",
       "      <th>percentage</th>\n",
       "    </tr>\n",
       "  </thead>\n",
       "  <tbody>\n",
       "    <tr>\n",
       "      <th>18</th>\n",
       "      <td>BHR</td>\n",
       "      <td>161936</td>\n",
       "      <td>136129.0</td>\n",
       "      <td>84.063457</td>\n",
       "    </tr>\n",
       "    <tr>\n",
       "      <th>200</th>\n",
       "      <td>URY</td>\n",
       "      <td>1023256</td>\n",
       "      <td>743692.0</td>\n",
       "      <td>72.678978</td>\n",
       "    </tr>\n",
       "    <tr>\n",
       "      <th>123</th>\n",
       "      <td>MEX</td>\n",
       "      <td>18922786</td>\n",
       "      <td>12915669.0</td>\n",
       "      <td>68.254585</td>\n",
       "    </tr>\n",
       "    <tr>\n",
       "      <th>159</th>\n",
       "      <td>QAT</td>\n",
       "      <td>624800</td>\n",
       "      <td>376576.0</td>\n",
       "      <td>60.271447</td>\n",
       "    </tr>\n",
       "    <tr>\n",
       "      <th>40</th>\n",
       "      <td>COL</td>\n",
       "      <td>5831297</td>\n",
       "      <td>3002557.0</td>\n",
       "      <td>51.490380</td>\n",
       "    </tr>\n",
       "    <tr>\n",
       "      <th>...</th>\n",
       "      <td>...</td>\n",
       "      <td>...</td>\n",
       "      <td>...</td>\n",
       "      <td>...</td>\n",
       "    </tr>\n",
       "    <tr>\n",
       "      <th>155</th>\n",
       "      <td>POL</td>\n",
       "      <td>34486362</td>\n",
       "      <td>17094.0</td>\n",
       "      <td>0.049567</td>\n",
       "    </tr>\n",
       "    <tr>\n",
       "      <th>116</th>\n",
       "      <td>LUX</td>\n",
       "      <td>994546</td>\n",
       "      <td>160.0</td>\n",
       "      <td>0.016088</td>\n",
       "    </tr>\n",
       "    <tr>\n",
       "      <th>172</th>\n",
       "      <td>SMR</td>\n",
       "      <td>55003</td>\n",
       "      <td>6.0</td>\n",
       "      <td>0.010908</td>\n",
       "    </tr>\n",
       "    <tr>\n",
       "      <th>119</th>\n",
       "      <td>MCO</td>\n",
       "      <td>12178</td>\n",
       "      <td>1.0</td>\n",
       "      <td>0.008212</td>\n",
       "    </tr>\n",
       "    <tr>\n",
       "      <th>203</th>\n",
       "      <td>VAT</td>\n",
       "      <td>3321</td>\n",
       "      <td>NaN</td>\n",
       "      <td>NaN</td>\n",
       "    </tr>\n",
       "  </tbody>\n",
       "</table>\n",
       "<p>215 rows × 4 columns</p>\n",
       "</div>"
      ],
      "text/plain": [
       "    ISO_A3     total   corporate  percentage\n",
       "18     BHR    161936    136129.0   84.063457\n",
       "200    URY   1023256    743692.0   72.678978\n",
       "123    MEX  18922786  12915669.0   68.254585\n",
       "159    QAT    624800    376576.0   60.271447\n",
       "40     COL   5831297   3002557.0   51.490380\n",
       "..     ...       ...         ...         ...\n",
       "155    POL  34486362     17094.0    0.049567\n",
       "116    LUX    994546       160.0    0.016088\n",
       "172    SMR     55003         6.0    0.010908\n",
       "119    MCO     12178         1.0    0.008212\n",
       "203    VAT      3321         NaN         NaN\n",
       "\n",
       "[215 rows x 4 columns]"
      ]
     },
     "execution_count": 32,
     "metadata": {},
     "output_type": "execute_result"
    }
   ],
   "source": [
    "combi.sort_values(by = 'percentage', ascending = False)"
   ]
  },
  {
   "cell_type": "code",
   "execution_count": 117,
   "id": "8ca55bc0-9418-420e-a490-a3131569edb3",
   "metadata": {},
   "outputs": [],
   "source": [
    "combi.to_csv('fig2_t0_t1_total_corporate_edits.csv', header = True)"
   ]
  },
  {
   "cell_type": "code",
   "execution_count": 36,
   "id": "2651fa66-99c9-4197-a624-76eb5049775b",
   "metadata": {},
   "outputs": [],
   "source": [
    "gdf = border.merge(combi, on = 'ISO_A3', how = 'left')"
   ]
  },
  {
   "cell_type": "code",
   "execution_count": 37,
   "id": "97495bf2-b2a0-4abe-afb7-1cae8bf79b7d",
   "metadata": {},
   "outputs": [
    {
     "data": {
      "text/html": [
       "<div>\n",
       "<style scoped>\n",
       "    .dataframe tbody tr th:only-of-type {\n",
       "        vertical-align: middle;\n",
       "    }\n",
       "\n",
       "    .dataframe tbody tr th {\n",
       "        vertical-align: top;\n",
       "    }\n",
       "\n",
       "    .dataframe thead th {\n",
       "        text-align: right;\n",
       "    }\n",
       "</style>\n",
       "<table border=\"1\" class=\"dataframe\">\n",
       "  <thead>\n",
       "    <tr style=\"text-align: right;\">\n",
       "      <th></th>\n",
       "      <th>ISO_A3</th>\n",
       "      <th>geometry</th>\n",
       "      <th>total</th>\n",
       "      <th>corporate</th>\n",
       "      <th>percentage</th>\n",
       "    </tr>\n",
       "  </thead>\n",
       "  <tbody>\n",
       "    <tr>\n",
       "      <th>0</th>\n",
       "      <td>UGA</td>\n",
       "      <td>POLYGON ((33.92110 -1.00194, 33.92027 -1.00111...</td>\n",
       "      <td>10707841.0</td>\n",
       "      <td>107930.0</td>\n",
       "      <td>1.007953</td>\n",
       "    </tr>\n",
       "    <tr>\n",
       "      <th>1</th>\n",
       "      <td>UZB</td>\n",
       "      <td>POLYGON ((70.97081 42.25467, 70.98054 42.26205...</td>\n",
       "      <td>3332947.0</td>\n",
       "      <td>177514.0</td>\n",
       "      <td>5.326037</td>\n",
       "    </tr>\n",
       "    <tr>\n",
       "      <th>2</th>\n",
       "      <td>IRL</td>\n",
       "      <td>MULTIPOLYGON (((-9.97014 54.02083, -9.93833 53...</td>\n",
       "      <td>5342883.0</td>\n",
       "      <td>14587.0</td>\n",
       "      <td>0.273017</td>\n",
       "    </tr>\n",
       "    <tr>\n",
       "      <th>3</th>\n",
       "      <td>ERI</td>\n",
       "      <td>MULTIPOLYGON (((40.13583 15.75250, 40.12861 15...</td>\n",
       "      <td>157529.0</td>\n",
       "      <td>1431.0</td>\n",
       "      <td>0.908404</td>\n",
       "    </tr>\n",
       "    <tr>\n",
       "      <th>4</th>\n",
       "      <td>None</td>\n",
       "      <td>MULTIPOLYGON (((-26.24361 -58.49473, -26.24889...</td>\n",
       "      <td>NaN</td>\n",
       "      <td>NaN</td>\n",
       "      <td>NaN</td>\n",
       "    </tr>\n",
       "    <tr>\n",
       "      <th>...</th>\n",
       "      <td>...</td>\n",
       "      <td>...</td>\n",
       "      <td>...</td>\n",
       "      <td>...</td>\n",
       "      <td>...</td>\n",
       "    </tr>\n",
       "    <tr>\n",
       "      <th>251</th>\n",
       "      <td>BEL</td>\n",
       "      <td>POLYGON ((6.01180 50.75727, 6.05472 50.72361, ...</td>\n",
       "      <td>10140149.0</td>\n",
       "      <td>7072.0</td>\n",
       "      <td>0.069743</td>\n",
       "    </tr>\n",
       "    <tr>\n",
       "      <th>252</th>\n",
       "      <td>WSM</td>\n",
       "      <td>MULTIPOLYGON (((-171.42920 -14.01625, -171.441...</td>\n",
       "      <td>53139.0</td>\n",
       "      <td>964.0</td>\n",
       "      <td>1.814110</td>\n",
       "    </tr>\n",
       "    <tr>\n",
       "      <th>253</th>\n",
       "      <td>AIA</td>\n",
       "      <td>POLYGON ((-63.15375 18.16528, -63.16778 18.164...</td>\n",
       "      <td>18326.0</td>\n",
       "      <td>764.0</td>\n",
       "      <td>4.168940</td>\n",
       "    </tr>\n",
       "    <tr>\n",
       "      <th>254</th>\n",
       "      <td>ISR</td>\n",
       "      <td>POLYGON ((35.62364 33.24573, 35.63249 33.24637...</td>\n",
       "      <td>1505869.0</td>\n",
       "      <td>4464.0</td>\n",
       "      <td>0.296440</td>\n",
       "    </tr>\n",
       "    <tr>\n",
       "      <th>255</th>\n",
       "      <td>LBY</td>\n",
       "      <td>POLYGON ((25.15166 31.64694, 25.14805 31.64611...</td>\n",
       "      <td>1372344.0</td>\n",
       "      <td>58257.0</td>\n",
       "      <td>4.245073</td>\n",
       "    </tr>\n",
       "  </tbody>\n",
       "</table>\n",
       "<p>256 rows × 5 columns</p>\n",
       "</div>"
      ],
      "text/plain": [
       "    ISO_A3                                           geometry       total  \\\n",
       "0      UGA  POLYGON ((33.92110 -1.00194, 33.92027 -1.00111...  10707841.0   \n",
       "1      UZB  POLYGON ((70.97081 42.25467, 70.98054 42.26205...   3332947.0   \n",
       "2      IRL  MULTIPOLYGON (((-9.97014 54.02083, -9.93833 53...   5342883.0   \n",
       "3      ERI  MULTIPOLYGON (((40.13583 15.75250, 40.12861 15...    157529.0   \n",
       "4     None  MULTIPOLYGON (((-26.24361 -58.49473, -26.24889...         NaN   \n",
       "..     ...                                                ...         ...   \n",
       "251    BEL  POLYGON ((6.01180 50.75727, 6.05472 50.72361, ...  10140149.0   \n",
       "252    WSM  MULTIPOLYGON (((-171.42920 -14.01625, -171.441...     53139.0   \n",
       "253    AIA  POLYGON ((-63.15375 18.16528, -63.16778 18.164...     18326.0   \n",
       "254    ISR  POLYGON ((35.62364 33.24573, 35.63249 33.24637...   1505869.0   \n",
       "255    LBY  POLYGON ((25.15166 31.64694, 25.14805 31.64611...   1372344.0   \n",
       "\n",
       "     corporate  percentage  \n",
       "0     107930.0    1.007953  \n",
       "1     177514.0    5.326037  \n",
       "2      14587.0    0.273017  \n",
       "3       1431.0    0.908404  \n",
       "4          NaN         NaN  \n",
       "..         ...         ...  \n",
       "251     7072.0    0.069743  \n",
       "252      964.0    1.814110  \n",
       "253      764.0    4.168940  \n",
       "254     4464.0    0.296440  \n",
       "255    58257.0    4.245073  \n",
       "\n",
       "[256 rows x 5 columns]"
      ]
     },
     "execution_count": 37,
     "metadata": {},
     "output_type": "execute_result"
    }
   ],
   "source": [
    "gdf"
   ]
  },
  {
   "cell_type": "code",
   "execution_count": 38,
   "id": "cf10048d-f7a5-4de0-ae6d-9af4c6876251",
   "metadata": {},
   "outputs": [],
   "source": [
    "gdf.to_file('fig2_corporate_edits_period_t0_t1.geojson', driver=\"GeoJSON\")"
   ]
  },
  {
   "cell_type": "code",
   "execution_count": 39,
   "id": "60c0b1e8-49ec-495f-8052-95cab41cc04a",
   "metadata": {},
   "outputs": [],
   "source": [
    "t = pd.read_csv(\"fig2_t0_t1_total_corporate_edits.csv\")"
   ]
  },
  {
   "cell_type": "code",
   "execution_count": 44,
   "id": "c705ad20-5b11-41ea-ae3d-e095650f7583",
   "metadata": {},
   "outputs": [
    {
     "data": {
      "text/plain": [
       "Unnamed: 0                                                23005\n",
       "ISO_A3        BHRURYMEXQATCOLCHLMYSVNMAREDOMINDGRCIDNSWZOMNK...\n",
       "total                                                1111799727\n",
       "corporate                                           100501914.0\n",
       "percentage                                          1853.314679\n",
       "dtype: object"
      ]
     },
     "execution_count": 44,
     "metadata": {},
     "output_type": "execute_result"
    }
   ],
   "source": [
    "t.sort_values(by = 'percentage', ascending = False).sum()"
   ]
  },
  {
   "cell_type": "code",
   "execution_count": 46,
   "id": "c3a7b044-3fcf-48c3-8ffd-16aca132b664",
   "metadata": {},
   "outputs": [
    {
     "data": {
      "text/plain": [
       "77.81400959189693"
      ]
     },
     "execution_count": 46,
     "metadata": {},
     "output_type": "execute_result"
    }
   ],
   "source": [
    "(78204569 / 100501914) * 100"
   ]
  }
 ],
 "metadata": {
  "kernelspec": {
   "display_name": "Python 3 (ipykernel)",
   "language": "python",
   "name": "python3"
  },
  "language_info": {
   "codemirror_mode": {
    "name": "ipython",
    "version": 3
   },
   "file_extension": ".py",
   "mimetype": "text/x-python",
   "name": "python",
   "nbconvert_exporter": "python",
   "pygments_lexer": "ipython3",
   "version": "3.11.5"
  }
 },
 "nbformat": 4,
 "nbformat_minor": 5
}
