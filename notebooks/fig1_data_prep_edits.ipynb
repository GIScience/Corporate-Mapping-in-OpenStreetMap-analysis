{
 "cells": [
  {
   "cell_type": "code",
   "execution_count": null,
   "id": "014c47ca-b167-4589-9c4d-f25839415b9f",
   "metadata": {},
   "outputs": [],
   "source": [
    "import pandas as pd\n",
    "import geopandas as gpd\n",
    "import numpy as np \n",
    "import matplotlib.pyplot as plt \n",
    "import duckdb\n",
    "import shapely.wkb\n",
    "from shapely.wkb import loads\n",
    "\n",
    "import glob\n",
    "import os"
   ]
  },
  {
   "cell_type": "code",
   "execution_count": 5,
   "id": "b944b68c-c64b-48c2-95fe-0a7f8724462f",
   "metadata": {},
   "outputs": [],
   "source": [
    "#data files\n",
    "db = duckdb.read_parquet(r\"D:\\Datenbank\\ohsome-stats-yearly\\year=*\\month=*\\*.parquet\", hive_partitioning=1) "
   ]
  },
  {
   "cell_type": "code",
   "execution_count": 6,
   "id": "483920f0-589c-41c4-91e4-cdbd1e1a3ce8",
   "metadata": {},
   "outputs": [],
   "source": [
    "# All corporate Hashtags\n",
    "hashtag_list = ['amap', 'adt', 'bolt', 'DigitalEgypt', 'expedia', 'gojek', 'MSFTOpenMaps', 'grab', 'Kaart', 'Kontur', 'mbx', 'RocketData',\n",
    "                'disputed_by_claimed_by', 'Snapp', 'stackbox', 'Telenav', 'Lightcyphers', 'tomtom', 'TIDBO', 'WIGeoGIS-OMV', 'نشان',\n",
    "                'mapbox', 'Komoot', 'AppLogica']"
   ]
  },
  {
   "cell_type": "markdown",
   "id": "8b7fa137-6118-4e65-8372-9ee7b847a0b5",
   "metadata": {},
   "source": [
    "## Data Download"
   ]
  },
  {
   "cell_type": "code",
   "execution_count": 4,
   "id": "53766f65-ddc2-46d3-a65d-95a475eef251",
   "metadata": {},
   "outputs": [],
   "source": [
    "# Specify the directory where your Excel files are located\n",
    "directory_path =  r\"C:\\Users\\lilly\\Documents\\bachelorarbeit\\analysis\\UserNameID-v2\"\n",
    "\n",
    "# Get a list of all Excel files in the directory\n",
    "excel_files = glob.glob(os.path.join(directory_path, \"*.xls\"))\n",
    "\n",
    "# Create an empty dictionary to store DataFrames\n",
    "dataframes_dict = {}\n",
    "\n",
    "# Read each Excel file and store its DataFrame in the dictionary - files saved as xldr - otherwise when saved as csv, other method applicable\n",
    "for excel_file in excel_files:\n",
    "    filename = os.path.basename(excel_file)\n",
    "    df = pd.read_csv(excel_file) \n",
    "    dataframes_dict[filename] = df"
   ]
  },
  {
   "cell_type": "code",
   "execution_count": 2,
   "id": "610b6ebe-9fe3-4827-b0dd-28a3f1f36edc",
   "metadata": {},
   "outputs": [],
   "source": [
    "# get the user-ids in working format\n",
    "def getListID(filename):\n",
    "    df = dataframes_dict[filename]\n",
    "    CorpoId = df['User ID']\n",
    "    user_ids_str = ','.join([f\"'{id}'\" for id in CorpoId])\n",
    "    return user_ids_str"
   ]
  },
  {
   "cell_type": "code",
   "execution_count": null,
   "id": "788c3e57-03fa-4598-80f2-86fa514a527a",
   "metadata": {},
   "outputs": [],
   "source": [
    "Meta = getListID(\"MetaUser.xls\")"
   ]
  },
  {
   "cell_type": "code",
   "execution_count": 11,
   "id": "63872026-58dd-44fe-9c8c-a6f7862333a4",
   "metadata": {},
   "outputs": [],
   "source": [
    "def yealyEdits(year, filename):\n",
    "    try: \n",
    "\n",
    "        # Construct the CASE statement to group hashtags together\n",
    "        case_statement = \"\\n\".join([\n",
    "            f\"WHEN hashtags ILIKE '%{hashtag}%' THEN '{hashtag}'\" for hashtag in hashtag_list\n",
    "        ])\n",
    "        \n",
    "        # Construct the SQL query\n",
    "        query = f\"\"\"\n",
    "            SELECT\n",
    "                CASE\n",
    "                    {case_statement}\n",
    "                    ELSE 'nc'\n",
    "                END AS corporation,\n",
    "                COUNT(*) AS edits\n",
    "            FROM db\n",
    "            WHERE year = {year}\n",
    "            GROUP BY corporation\n",
    "            ORDER BY edits DESC\n",
    "        \"\"\"\n",
    "        \n",
    "        # Execute the SQL query\n",
    "        result = duckdb.sql(query)\n",
    "        \n",
    "        # Show the result\n",
    "        hashtags = result.to_df()\n",
    "    \n",
    "    \n",
    "        q2 = f\"\"\"\n",
    "            SELECT COUNT(*) AS meta\n",
    "            FROM db\n",
    "            WHERE year = {year} AND user_id IN ({Meta})\n",
    "            \n",
    "        \"\"\"\n",
    "        r2 = duckdb.sql(q2)\n",
    "        meta = r2.to_df()\n",
    "    \n",
    "        m = str(meta['meta'].values[0]) \n",
    "        d = {'corporation': ['meta'], 'edits': [m]}\n",
    "        meta_df = pd.DataFrame(data=d)\n",
    "    \n",
    "        \n",
    "        frames = [hashtags, meta_df]\n",
    "    \n",
    "        table = pd.concat(frames)\n",
    "    \n",
    "        table.to_csv(filename, header = True)\n",
    "\n",
    "    except Exception as e:\n",
    "        print(f\"An error occurred: {e}\")"
   ]
  },
  {
   "cell_type": "code",
   "execution_count": null,
   "id": "9e8469ef-59ea-4afa-8163-1a3def43b537",
   "metadata": {},
   "outputs": [],
   "source": [
    "yealyEdits(2016, \"totalEdits_2016.csv\")"
   ]
  },
  {
   "cell_type": "code",
   "execution_count": null,
   "id": "143ce4a1-ae90-4fe9-b657-b9d387a7d9bf",
   "metadata": {},
   "outputs": [],
   "source": [
    "yealyEdits(2017, \"totalEdits_2017.csv\")"
   ]
  },
  {
   "cell_type": "code",
   "execution_count": null,
   "id": "62d115e0-9f48-4f59-8939-8b5cb7306e72",
   "metadata": {},
   "outputs": [],
   "source": [
    "yealyEdits(2018, \"totalEdits_2018.csv\")"
   ]
  },
  {
   "cell_type": "code",
   "execution_count": 40,
   "id": "d5fee0a0-9766-4cb8-ba11-64480ab4ad10",
   "metadata": {},
   "outputs": [],
   "source": [
    "yealyEdits(2019, \"totalEdits_2019.csv\")"
   ]
  },
  {
   "cell_type": "code",
   "execution_count": 21,
   "id": "ca628899-4e00-430e-8a0a-c03a02baaa8f",
   "metadata": {},
   "outputs": [],
   "source": [
    "yealyEdits(2020, \"totalEdits_2020.csv\")"
   ]
  },
  {
   "cell_type": "code",
   "execution_count": 12,
   "id": "d6e9be3d-d76a-47a6-95ed-01944801296a",
   "metadata": {},
   "outputs": [],
   "source": [
    "yealyEdits(2021, \"totalEdits_2021.csv\")"
   ]
  },
  {
   "cell_type": "code",
   "execution_count": 13,
   "id": "b0493145-f8ed-401d-b2a2-e8b68362cfb6",
   "metadata": {},
   "outputs": [],
   "source": [
    "yealyEdits(2022, \"totalEdits_2022.csv\")"
   ]
  },
  {
   "cell_type": "code",
   "execution_count": 14,
   "id": "0a7a9981-66f9-4421-86a6-348759652486",
   "metadata": {},
   "outputs": [],
   "source": [
    "yealyEdits(2023, \"totalEdits_2023.csv\")"
   ]
  },
  {
   "cell_type": "markdown",
   "id": "1a95fce3-2604-4aff-ae0a-3fea53805b4c",
   "metadata": {},
   "source": [
    "## Data Preperation"
   ]
  },
  {
   "cell_type": "markdown",
   "id": "1a868402-9d9b-4e32-8535-ff33b975de63",
   "metadata": {},
   "source": [
    "### Absolute Numbers"
   ]
  },
  {
   "cell_type": "code",
   "execution_count": 39,
   "id": "67fc2f69-b3e1-4cc7-967a-1f20ab6f90ad",
   "metadata": {},
   "outputs": [],
   "source": [
    "#extracting  the total corporate and non-corporate information yearly - since the files have saved it per corporation\n",
    "def extrctingCEdata(csv, yearColumn): \n",
    "    df = pd.read_csv(csv)\n",
    "\n",
    "    df = df.drop(columns={'Unnamed: 0'})\n",
    "    \n",
    "    #df = df.head(-1) #check the impact of meta\n",
    "    total = df['edits'].sum()\n",
    "    corporate = df['edits'].tail(-1).sum()\n",
    "    non_corporate = df['edits'].head(1).sum()\n",
    "\n",
    "     #calculating the percentage of corporate edits based on total edits\n",
    "    percentage = (corporate / total) * 100\n",
    "\n",
    "    d = {'year' : [yearColumn], 'total': [total], 'CE': [corporate], 'NCE': [non_corporate], 'percentage': [percentage]}\n",
    "\n",
    "    pd.set_option('display.float_format', '{:.2f}'.format)\n",
    "    \n",
    "    df = pd.DataFrame(data=d)\n",
    "\n",
    "    return df"
   ]
  },
  {
   "cell_type": "code",
   "execution_count": 40,
   "id": "eaf282ad-07eb-4dc6-aaad-a7284129eeb8",
   "metadata": {},
   "outputs": [],
   "source": [
    "y16 = extrctingCEdata('totalEdits_2016.csv', 2016)\n",
    "y17 = extrctingCEdata('totalEdits_2017.csv', 2017)\n",
    "y18 = extrctingCEdata('totalEdits_2018.csv', 2018)\n",
    "y19 = extrctingCEdata('totalEdits_2019.csv', 2019)\n",
    "y20 = extrctingCEdata('totalEdits_2020.csv', 2020)\n",
    "y21 = extrctingCEdata('totalEdits_2021.csv', 2021)\n",
    "y22 = extrctingCEdata('totalEdits_2022.csv', 2022)\n",
    "y23 = extrctingCEdata('totalEdits_2023.csv', 2023)\n"
   ]
  },
  {
   "cell_type": "code",
   "execution_count": 41,
   "id": "79c8c9ef-2bea-4a86-a906-38a58ee20560",
   "metadata": {},
   "outputs": [],
   "source": [
    "frames = [y16, y17, y18, y19, y20, y21, y22, y23]\n",
    "\n",
    "yearly_data = pd.concat(frames)"
   ]
  },
  {
   "cell_type": "code",
   "execution_count": 42,
   "id": "44bfaa21-6859-44ca-8478-77af63001c1e",
   "metadata": {},
   "outputs": [],
   "source": [
    "yearly_data = yearly_data.reset_index().drop(columns={'index'})"
   ]
  },
  {
   "cell_type": "code",
   "execution_count": 43,
   "id": "e6a6cd5c-2c4f-4be5-9e61-7263424ca4d3",
   "metadata": {},
   "outputs": [
    {
     "data": {
      "text/html": [
       "<div>\n",
       "<style scoped>\n",
       "    .dataframe tbody tr th:only-of-type {\n",
       "        vertical-align: middle;\n",
       "    }\n",
       "\n",
       "    .dataframe tbody tr th {\n",
       "        vertical-align: top;\n",
       "    }\n",
       "\n",
       "    .dataframe thead th {\n",
       "        text-align: right;\n",
       "    }\n",
       "</style>\n",
       "<table border=\"1\" class=\"dataframe\">\n",
       "  <thead>\n",
       "    <tr style=\"text-align: right;\">\n",
       "      <th></th>\n",
       "      <th>year</th>\n",
       "      <th>total</th>\n",
       "      <th>CE</th>\n",
       "      <th>NCE</th>\n",
       "      <th>percentage</th>\n",
       "    </tr>\n",
       "  </thead>\n",
       "  <tbody>\n",
       "    <tr>\n",
       "      <th>0</th>\n",
       "      <td>2016</td>\n",
       "      <td>163538605</td>\n",
       "      <td>54507</td>\n",
       "      <td>163484098</td>\n",
       "      <td>0.03</td>\n",
       "    </tr>\n",
       "    <tr>\n",
       "      <th>1</th>\n",
       "      <td>2017</td>\n",
       "      <td>192499784</td>\n",
       "      <td>2343678</td>\n",
       "      <td>190156106</td>\n",
       "      <td>1.22</td>\n",
       "    </tr>\n",
       "    <tr>\n",
       "      <th>2</th>\n",
       "      <td>2018</td>\n",
       "      <td>226081100</td>\n",
       "      <td>5260401</td>\n",
       "      <td>220820699</td>\n",
       "      <td>2.33</td>\n",
       "    </tr>\n",
       "    <tr>\n",
       "      <th>3</th>\n",
       "      <td>2019</td>\n",
       "      <td>231941235</td>\n",
       "      <td>13146644</td>\n",
       "      <td>218794591</td>\n",
       "      <td>5.67</td>\n",
       "    </tr>\n",
       "    <tr>\n",
       "      <th>4</th>\n",
       "      <td>2020</td>\n",
       "      <td>286643044</td>\n",
       "      <td>29510527</td>\n",
       "      <td>257132517</td>\n",
       "      <td>10.30</td>\n",
       "    </tr>\n",
       "    <tr>\n",
       "      <th>5</th>\n",
       "      <td>2021</td>\n",
       "      <td>309738042</td>\n",
       "      <td>34363469</td>\n",
       "      <td>275374573</td>\n",
       "      <td>11.09</td>\n",
       "    </tr>\n",
       "    <tr>\n",
       "      <th>6</th>\n",
       "      <td>2022</td>\n",
       "      <td>274127413</td>\n",
       "      <td>20133005</td>\n",
       "      <td>253994408</td>\n",
       "      <td>7.34</td>\n",
       "    </tr>\n",
       "    <tr>\n",
       "      <th>7</th>\n",
       "      <td>2023</td>\n",
       "      <td>173064319</td>\n",
       "      <td>9644921</td>\n",
       "      <td>163419398</td>\n",
       "      <td>5.57</td>\n",
       "    </tr>\n",
       "  </tbody>\n",
       "</table>\n",
       "</div>"
      ],
      "text/plain": [
       "   year      total        CE        NCE  percentage\n",
       "0  2016  163538605     54507  163484098        0.03\n",
       "1  2017  192499784   2343678  190156106        1.22\n",
       "2  2018  226081100   5260401  220820699        2.33\n",
       "3  2019  231941235  13146644  218794591        5.67\n",
       "4  2020  286643044  29510527  257132517       10.30\n",
       "5  2021  309738042  34363469  275374573       11.09\n",
       "6  2022  274127413  20133005  253994408        7.34\n",
       "7  2023  173064319   9644921  163419398        5.57"
      ]
     },
     "execution_count": 43,
     "metadata": {},
     "output_type": "execute_result"
    }
   ],
   "source": [
    "yearly_data"
   ]
  },
  {
   "cell_type": "code",
   "execution_count": 44,
   "id": "eb06bc0f-28b8-4c4e-82cc-2cda1debc8d2",
   "metadata": {},
   "outputs": [],
   "source": [
    "yearly_data.to_csv('fig1_2016-2023_yearly_data_ce_nce.csv', header = True)"
   ]
  },
  {
   "cell_type": "markdown",
   "id": "62824ca9-6b06-4d2f-b599-521cfc7349e4",
   "metadata": {},
   "source": [
    "### top 10 edits per corporation"
   ]
  },
  {
   "cell_type": "code",
   "execution_count": 46,
   "id": "6f642e81-c9b5-48df-a8ba-1dc25ebb5368",
   "metadata": {},
   "outputs": [],
   "source": [
    "h16 = pd.read_csv('totalEdits_2016.csv')\n",
    "h17 = pd.read_csv('totalEdits_2017.csv')\n",
    "h18 = pd.read_csv('totalEdits_2018.csv')\n",
    "h19 = pd.read_csv('totalEdits_2019.csv')\n",
    "h20 = pd.read_csv('totalEdits_2020.csv')\n",
    "h21 = pd.read_csv('totalEdits_2021.csv')\n",
    "h22 = pd.read_csv('totalEdits_2022.csv')\n",
    "h23 = pd.read_csv('totalEdits_2023.csv')"
   ]
  },
  {
   "cell_type": "code",
   "execution_count": 47,
   "id": "0659923e-063e-4829-a6ea-ab2523b2a1b6",
   "metadata": {},
   "outputs": [],
   "source": [
    "def datprepCE(year):\n",
    "    df = pd.read_csv(f'totalEdits_{year}.csv')\n",
    "    df = df.drop(columns={'Unnamed: 0'})\n",
    "    df = df.rename(columns={'edits': year})\n",
    "    return df"
   ]
  },
  {
   "cell_type": "code",
   "execution_count": 48,
   "id": "d60bdaf5-521b-4066-931f-e93b241eaebc",
   "metadata": {},
   "outputs": [],
   "source": [
    "years = [2016, 2017, 2018, 2019, 2020, 2021, 2022, 2023]\n",
    "dat = {'corporation' : []}\n",
    "df_t = pd.DataFrame(data=dat)"
   ]
  },
  {
   "cell_type": "code",
   "execution_count": 49,
   "id": "a6598d1a-ac1a-4f2a-ab9f-73af30d28d3d",
   "metadata": {},
   "outputs": [],
   "source": [
    "for year in years:\n",
    "    d = datprepCE(year)\n",
    "    df_t = pd.merge(df_t, d, on = 'corporation', how = 'outer')"
   ]
  },
  {
   "cell_type": "code",
   "execution_count": 50,
   "id": "b0e332d5-7bac-4f58-8579-64be09bc958a",
   "metadata": {},
   "outputs": [],
   "source": [
    "timeline = df_t.copy()\n",
    "timeline = timeline.rename_axis('year', axis=1)\n",
    "timeline = timeline.set_index('corporation')"
   ]
  },
  {
   "cell_type": "code",
   "execution_count": 51,
   "id": "0da5219a-1b60-466e-9b4e-036d5f95de4e",
   "metadata": {},
   "outputs": [],
   "source": [
    "timeline = timeline.fillna(0)"
   ]
  },
  {
   "cell_type": "code",
   "execution_count": 52,
   "id": "641c22f2-ec64-4ce1-a82d-726381a8ef16",
   "metadata": {},
   "outputs": [],
   "source": [
    "timeline.loc['mapbox'] += timeline.loc['mbx']"
   ]
  },
  {
   "cell_type": "code",
   "execution_count": 53,
   "id": "90189c7f-ab02-44e1-8199-f39cdcbb975b",
   "metadata": {},
   "outputs": [],
   "source": [
    "timeline.drop(['mbx'], inplace=True)"
   ]
  },
  {
   "cell_type": "code",
   "execution_count": 14,
   "id": "69f1cf37-9ef4-42cd-a04b-6ae228287782",
   "metadata": {},
   "outputs": [],
   "source": [
    "edit_count = timeline.transpose().sum()"
   ]
  },
  {
   "cell_type": "code",
   "execution_count": 15,
   "id": "4038f0ff-526f-4de1-80d4-4b7b265a6455",
   "metadata": {
    "scrolled": true
   },
   "outputs": [
    {
     "data": {
      "text/plain": [
       "corporation\n",
       "nc                       1743176390.00\n",
       "meta                       35917491.00\n",
       "adt                        31329879.00\n",
       "Kaart                      30623363.00\n",
       "amap                        6302076.00\n",
       "MSFTOpenMaps                2116685.00\n",
       "tomtom                      2101635.00\n",
       "DigitalEgypt                1771911.00\n",
       "grab                        1619427.00\n",
       "mapbox                       860369.00\n",
       "Telenav                      507189.00\n",
       "bolt                         410599.00\n",
       "نشان                         293964.00\n",
       "RocketData                   275810.00\n",
       "Lightcyphers                 182052.00\n",
       "expedia                       63878.00\n",
       "TIDBO                         37167.00\n",
       "Kontur                        22691.00\n",
       "stackbox                      10877.00\n",
       "AppLogica                      4971.00\n",
       "disputed_by_claimed_by         1805.00\n",
       "WIGeoGIS-OMV                   1439.00\n",
       "gojek                           992.00\n",
       "Komoot                          798.00\n",
       "Snapp                            84.00\n",
       "dtype: float64"
      ]
     },
     "execution_count": 15,
     "metadata": {},
     "output_type": "execute_result"
    }
   ],
   "source": [
    "edit_count.sort_values(ascending = False)"
   ]
  },
  {
   "cell_type": "code",
   "execution_count": 17,
   "id": "9b2275b4-e447-4370-ae2e-618d1b0f6255",
   "metadata": {},
   "outputs": [],
   "source": [
    "Other = timeline.copy()\n",
    "Other = Other.transpose()"
   ]
  },
  {
   "cell_type": "code",
   "execution_count": 18,
   "id": "364b55b9-225d-4533-8e4e-ddaa3ecd8fc1",
   "metadata": {},
   "outputs": [],
   "source": [
    "Other = Other[['Telenav', 'bolt', 'نشان','RocketData', 'Lightcyphers', 'expedia', 'TIDBO', 'Kontur', 'stackbox', 'AppLogica', 'disputed_by_claimed_by', 'WIGeoGIS-OMV', 'gojek', 'Komoot', 'Snapp']]"
   ]
  },
  {
   "cell_type": "code",
   "execution_count": 19,
   "id": "2f6c0926-7d12-4149-9ad5-afb9296998b5",
   "metadata": {
    "scrolled": true
   },
   "outputs": [
    {
     "data": {
      "text/plain": [
       "year\n",
       "2016     6234.00\n",
       "2017    32982.00\n",
       "2018    42399.00\n",
       "2019   346339.00\n",
       "2020   286941.00\n",
       "2021   350070.00\n",
       "2022   551924.00\n",
       "2023   197427.00\n",
       "dtype: float64"
      ]
     },
     "execution_count": 19,
     "metadata": {},
     "output_type": "execute_result"
    }
   ],
   "source": [
    "Other.transpose().sum()"
   ]
  },
  {
   "cell_type": "code",
   "execution_count": 20,
   "id": "f60abdee-6a91-4796-b40e-7b7536a1d33f",
   "metadata": {},
   "outputs": [],
   "source": [
    "large = timeline.transpose().reset_index()\n",
    "large = large[['year', 'meta', 'adt', 'Kaart', 'amap', 'MSFTOpenMaps', 'tomtom',  'DigitalEgypt', 'grab', 'mapbox']]"
   ]
  },
  {
   "cell_type": "code",
   "execution_count": 21,
   "id": "ff6b8b54-e649-4673-af1d-bebee7be022a",
   "metadata": {},
   "outputs": [],
   "source": [
    "large['Other'] = ['6234.0', '32982.0', '42399.0', '346339.0', '286941.0', '350070.0', '551924.0', '197427.0']"
   ]
  },
  {
   "cell_type": "code",
   "execution_count": 22,
   "id": "6ebc2afe-efd3-4f26-8a78-3ddc4a7b361b",
   "metadata": {},
   "outputs": [],
   "source": [
    "large['Other'] = large['Other'].apply(pd.to_numeric, errors ='coerce')"
   ]
  },
  {
   "cell_type": "markdown",
   "id": "65f0d97b-1db8-43ff-9096-d72db60fa720",
   "metadata": {},
   "source": [
    "### prep for percentage per corporation"
   ]
  },
  {
   "cell_type": "code",
   "execution_count": 24,
   "id": "82f2ef8c-6452-40a3-ab7f-e3a9bbd27848",
   "metadata": {},
   "outputs": [],
   "source": [
    "# calculating the total number of PFs per year - taking the df created for the first graph\n",
    "newTotal = yearly_data.copy()\n",
    "\n",
    "totalCE = newTotal[['year', 'CE']]"
   ]
  },
  {
   "cell_type": "code",
   "execution_count": 25,
   "id": "49c2c671-cd97-4c4f-b9de-e97519598bfd",
   "metadata": {},
   "outputs": [],
   "source": [
    "# adding the total corporate numbers\n",
    "top10List = pd.merge(totalCE, large, on = 'year', how ='left')"
   ]
  },
  {
   "cell_type": "code",
   "execution_count": 130,
   "id": "ae89336d-e1f7-4f29-9b73-3335bcf452d9",
   "metadata": {},
   "outputs": [],
   "source": [
    "corpor10 = ['meta','adt', 'Kaart', 'amap', 'MSFTOpenMaps', 'tomtom', 'grab', 'DigitalEgypt', 'mapbox', 'Other']"
   ]
  },
  {
   "cell_type": "code",
   "execution_count": 131,
   "id": "46efe7e8-098a-4731-90f9-6dad8f5a474b",
   "metadata": {},
   "outputs": [],
   "source": [
    "# calculating th epercentage each corporation held based on the total corporate edits that year\n",
    "newDF = top10List\n",
    "def calc_perc(hashtag):\n",
    "    newDF = top10List\n",
    "    newDF[f'{hashtag}_perc'] =  newDF[hashtag]/newDF['CE'] *100\n",
    "    newDF = newDF.drop(columns={f'{hashtag}'})\n",
    "    return newDF"
   ]
  },
  {
   "cell_type": "code",
   "execution_count": 132,
   "id": "693409b7-12c3-4d99-8509-40cfa4727dd4",
   "metadata": {},
   "outputs": [],
   "source": [
    "for tags in corpor10: \n",
    "    calc_perc(tags)"
   ]
  },
  {
   "cell_type": "code",
   "execution_count": 139,
   "id": "e0a4a25c-6d3c-4b49-a23f-043f8585d8ac",
   "metadata": {},
   "outputs": [],
   "source": [
    "percCE = newDF.drop(columns={'CE','meta', 'adt', 'Kaart', 'amap', 'MSFTOpenMaps', 'tomtom', 'grab', 'DigitalEgypt', 'mapbox', 'Other'})"
   ]
  },
  {
   "cell_type": "code",
   "execution_count": 140,
   "id": "ab9be43f-3297-4ae9-ba90-2fa105c8fbef",
   "metadata": {},
   "outputs": [],
   "source": [
    "percCE = percCE.rename(columns = {'amap_perc': 'amap',\n",
    "                                  'meta_perc': 'meta',\n",
    "                                  'Kaart_perc':'Kaart',\n",
    "                                  'tomtom_perc':'tomtom',\n",
    "                                  'adt_perc': 'adt', \n",
    "                                  'grab_perc': 'grab',\n",
    "                                  'bolt_perc':'bolt', \n",
    "                                  'MSFTOpenMaps_perc':'MSFTOpenMaps',\n",
    "                                  'DigitalEgypt_perc':'DigitalEgypt',\n",
    "                                  'Other_perc':'Other',\n",
    "                                  'Mapbox_perc': 'mapbox'\n",
    "                                 })"
   ]
  },
  {
   "cell_type": "markdown",
   "id": "fa901856-1065-4636-a168-4b5c4f75df43",
   "metadata": {},
   "source": [
    "### percentage edits per corporation based on total edits\n",
    "same as above but instead of the 'CE' column in totalCE now its the 'total' column in total edits"
   ]
  },
  {
   "cell_type": "code",
   "execution_count": 40,
   "id": "6831ae50-fb41-430f-a636-b1c5595eb403",
   "metadata": {},
   "outputs": [],
   "source": [
    "# calculating the total number of PFs per year - taking the df created for the first graph\n",
    "newTotal = yearly_data.copy()\n",
    "\n",
    "total_edits = newTotal[['year', 'total']]"
   ]
  },
  {
   "cell_type": "code",
   "execution_count": 41,
   "id": "f4fdf882-4eac-4a47-b486-0d0cab6785e8",
   "metadata": {},
   "outputs": [],
   "source": [
    "# adding the total corporate numbers\n",
    "top10List_new = pd.merge(total_edits, large, on = 'year', how ='left')"
   ]
  },
  {
   "cell_type": "code",
   "execution_count": 43,
   "id": "54a92381-8deb-4c88-874c-1cfa9e1dc0a9",
   "metadata": {},
   "outputs": [],
   "source": [
    "corpor10 = ['meta','adt', 'Kaart', 'amap', 'MSFTOpenMaps', 'tomtom', 'grab', 'DigitalEgypt', 'mapbox', 'Other']"
   ]
  },
  {
   "cell_type": "code",
   "execution_count": null,
   "id": "cc120908-d028-4014-810f-5399d290787f",
   "metadata": {},
   "outputs": [],
   "source": [
    "# aadjusted for edits\n",
    "newDF_edits = top10List_new\n",
    "def calc_perc_total(hashtag):\n",
    "    newDF_edits = top10List_new\n",
    "    newDF_edits[f'{hashtag}_perc'] =  newDF_edits[hashtag]/newDF_edits['total'] *100\n",
    "    newDF_edits = newDF_edits.drop(columns={f'{hashtag}'})\n",
    "    return newDF_edits"
   ]
  },
  {
   "cell_type": "code",
   "execution_count": 45,
   "id": "cbf7e189-91da-44be-9a16-65c1c3213e1b",
   "metadata": {},
   "outputs": [],
   "source": [
    "for tags in corpor10: \n",
    "    calc_perc_total(tags)"
   ]
  },
  {
   "cell_type": "code",
   "execution_count": 47,
   "id": "3e5b5e00-c723-4264-ad3b-455aa7d291fd",
   "metadata": {},
   "outputs": [],
   "source": [
    "percTotal = newDF_edits.drop(columns={'total','meta', 'adt', 'Kaart', 'amap', 'MSFTOpenMaps', 'tomtom', 'grab', 'DigitalEgypt', 'mapbox', 'Other'})"
   ]
  },
  {
   "cell_type": "code",
   "execution_count": 48,
   "id": "ae912432-f530-43a4-a513-bd4982a4b1e4",
   "metadata": {},
   "outputs": [],
   "source": [
    "percTotal = percTotal.rename(columns = {'amap_perc': 'amap',\n",
    "                                  'meta_perc': 'meta',\n",
    "                                  'Kaart_perc':'Kaart',\n",
    "                                  'tomtom_perc':'tomtom',\n",
    "                                  'adt_perc': 'adt', \n",
    "                                  'grab_perc': 'grab',\n",
    "                                  'bolt_perc':'bolt', \n",
    "                                  'MSFTOpenMaps_perc':'MSFTOpenMaps',\n",
    "                                  'DigitalEgypt_perc':'DigitalEgypt',\n",
    "                                  'Other_perc':'Other',\n",
    "                                  'mapbox_perc': 'mapbox'\n",
    "                                 })"
   ]
  },
  {
   "cell_type": "code",
   "execution_count": 50,
   "id": "871c8f17-9c4e-4c24-b763-2aa1d8f342ae",
   "metadata": {},
   "outputs": [],
   "source": [
    "percTotal.to_csv('fig1_top10_corpos_percentage_edits_based_on_total_edits.csv', header = True)"
   ]
  }
 ],
 "metadata": {
  "kernelspec": {
   "display_name": "Python 3 (ipykernel)",
   "language": "python",
   "name": "python3"
  },
  "language_info": {
   "codemirror_mode": {
    "name": "ipython",
    "version": 3
   },
   "file_extension": ".py",
   "mimetype": "text/x-python",
   "name": "python",
   "nbconvert_exporter": "python",
   "pygments_lexer": "ipython3",
   "version": "3.10.12"
  }
 },
 "nbformat": 4,
 "nbformat_minor": 5
}
