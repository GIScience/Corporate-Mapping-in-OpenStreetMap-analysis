{
 "cells": [
  {
   "cell_type": "code",
   "execution_count": 64,
   "id": "75278ded-9f50-4a5e-ab60-d8a1f455d205",
   "metadata": {},
   "outputs": [],
   "source": [
    "import os\n",
    "import json\n",
    "import requests\n",
    "from bs4 import BeautifulSoup\n",
    "\n",
    "import pandas as pd\n",
    "import geopandas as gpd\n",
    "import numpy as np \n",
    "import matplotlib.pyplot as plt \n",
    "import duckdb\n",
    "\n",
    "import csv"
   ]
  },
  {
   "cell_type": "code",
   "execution_count": 65,
   "id": "559b6123-8898-492b-a6da-a8d6a99cf0d9",
   "metadata": {},
   "outputs": [],
   "source": [
    "from urllib.parse import quote\n",
    "from urllib.parse import unquote"
   ]
  },
  {
   "cell_type": "code",
   "execution_count": 66,
   "id": "17b95961-a65e-4c4c-98e7-a670e4b5c818",
   "metadata": {},
   "outputs": [],
   "source": [
    "def get_all_users_from_links(url, soup=None):\n",
    "    if soup is None:\n",
    "        page = requests.get(url)\n",
    "        soup = BeautifulSoup(page.content, \"html.parser\")\n",
    "    link_prefix = \"https://www.openstreetmap.org/user/\"\n",
    "    user_names = []\n",
    "    for a in soup.find_all(\"a\", href=True):\n",
    "        href = a[\"href\"]\n",
    "        if href[:5] == \"http:\":\n",
    "            href = f\"https{href[4:]}\"\n",
    "        elif href[:2] == \"//\":\n",
    "            href = f\"https:{href}\"\n",
    "        if href[: len(link_prefix)] == link_prefix:\n",
    "            user_name = href[len(link_prefix) :]\n",
    "            user_name = user_name.split(\"/\")[0]\n",
    "            user_names.append(user_name)\n",
    "\n",
    "    return [url, user_names]\n",
    "\n",
    "\n",
    "def get_username_from_tables(url, column_index):\n",
    "    page = requests.get(url)\n",
    "    soup = BeautifulSoup(page.content, \"html.parser\")\n",
    "    users = []\n",
    "    for tr in soup.find_all(\"tr\"):\n",
    "        tds = tr.find_all(\"td\")\n",
    "        if len(tds) == 0:\n",
    "            continue\n",
    "        user = str(tds[column_index]).replace(\"<td>\", \"\").replace(\"</td>\", \"\").replace(\"\\n\", \"\")\n",
    "        if user != \"User Name\":\n",
    "            users.append(user)\n",
    "    return [url, users]\n",
    "\n",
    "\n",
    "def get_all_users_from_mapbox_link(url):\n",
    "    page = requests.get(url)\n",
    "    soup = BeautifulSoup(page.content, \"html.parser\")\n",
    "    return [url, get_all_users_from_links(None, soup.find_all(\"table\")[0])[1]]\n",
    "\n",
    "\n",
    "def get_all_users_from_microsoft_link(url):\n",
    "    page = requests.get(url)\n",
    "    soup = BeautifulSoup(page.content, \"html.parser\")\n",
    "    soup = soup.find_all(\"table\")[0]\n",
    "    users = []\n",
    "    for td in soup.find_all(\"td\"):\n",
    "        user = str(td)[4:-6]\n",
    "        if user != \"\":\n",
    "            users.append(user)\n",
    "    return [url, users]"
   ]
  },
  {
   "cell_type": "code",
   "execution_count": 77,
   "id": "83987f18-fb58-47a0-abae-f38db28bd8de",
   "metadata": {},
   "outputs": [],
   "source": [
    "corporation_to_users = {\n",
    "    \"Amazon\": get_all_users_from_links(\"https://wiki.openstreetmap.org/wiki/Organised_Editing/Activities/Amazon\"),\n",
    "    \"Apple\": get_all_users_from_links(\"https://github.com/osmlab/appledata/wiki/Data-Team\"),\n",
    "    \"AppLogica\": get_all_users_from_links(\"https://wiki.openstreetmap.org/wiki/AppLogica\"),\n",
    "    \"Balad\": get_all_users_from_links(\"https://wiki.openstreetmap.org/wiki/Balad\"),\n",
    "    \"Bolt\": get_all_users_from_links(\"https://wiki.openstreetmap.org/wiki/Organised_Editing/Activites/Bolt\"),\n",
    "    \"DevSeed\": get_all_users_from_links(\"https://wiki.openstreetmap.org/wiki/DevSeed-Data\"),\n",
    "    \"DigitalEgypt\": get_all_users_from_links(\"https://wiki.openstreetmap.org/wiki/DigitalEgypt\"),\n",
    "    \"Expedia\": get_all_users_from_links(\"https://github.com/osmlab/expedia/wiki/Data-Team\"),\n",
    "    \"Gojek\": get_all_users_from_links(\"https://wiki.openstreetmap.org/wiki/Gojek\"),\n",
    "    \"Grab\": get_username_from_tables(\"https://github.com/GRABOSM/Grab-Data/blob/master/Grab%20Data%20Team.md\", 1),\n",
    "    \"Graphmasters\": get_all_users_from_links(\"https://wiki.openstreetmap.org/wiki/Graphmasters\"),\n",
    "    \"Kaart\": get_all_users_from_links(\"https://wiki.openstreetmap.org/wiki/Kaart\"),\n",
    "    \"Kontur\": get_all_users_from_links(\"https://wiki.openstreetmap.org/wiki/Kontur\"),\n",
    "    \"Lightcyphers\": get_all_users_from_links(\"https://wiki.openstreetmap.org/wiki/Lightcyphers\"),\n",
    "    \"Lyft\": get_all_users_from_links(\n",
    "        \"https://github.com/OSM-DCT-Lyft/US/wiki/OSM-Team-Members#lyft-mapping-team-osm-ids\"\n",
    "    ),\n",
    "    \"Mapbox\": get_all_users_from_mapbox_link(\"https://wiki.openstreetmap.org/wiki/Mapbox#Mapbox_Data_Team\"),\n",
    "    \"Meta\": get_all_users_from_links(\"https://wiki.openstreetmap.org/wiki/Organised_Editing/Activities/Facebook\"),\n",
    "    \"Microsoft\": get_all_users_from_microsoft_link(\n",
    "        \"https://wiki.openstreetmap.org/wiki/Organised_Editing/Activities/Microsoft\"\n",
    "    ),\n",
    "    \"Neshan\": get_all_users_from_links(\"https://wiki.openstreetmap.org/wiki/Neshan\"),\n",
    "    \"NextBillion.AI\": get_all_users_from_links(\"https://wiki.openstreetmap.org/wiki/NextBillion.AI-OSM\"),\n",
    "    #\"Ola\": get_username_from_tables(\"https://wiki.openstreetmap.org/wiki/Ola\", 2),\n",
    "    \"Rocketdata.io\": get_all_users_from_links(\"https://wiki.openstreetmap.org/wiki/Organised_Editing/Rocketdata.io\"),\n",
    "    \"Snap\": get_all_users_from_links(\"https://wiki.openstreetmap.org/wiki/Organised_Editing/Activities/Snap\"),\n",
    "    \"Snapp\": get_all_users_from_links(\"https://wiki.openstreetmap.org/wiki/Fa:Snapp\"),\n",
    "    \"Stackbox\": get_all_users_from_links(\"https://wiki.openstreetmap.org/wiki/Organised_Editing/Activities/Stackbox\"),\n",
    "    \"Swiggy\": get_username_from_tables(\"https://wiki.openstreetmap.org/wiki/Organised_Editing/Activities/Swiggy\", 1),\n",
    "    \"Telenav\": get_all_users_from_links(\"https://wiki.openstreetmap.org/wiki/Telenav\"),\n",
    "    \"TfNSW\": get_all_users_from_links(\"https://wiki.openstreetmap.org/wiki/TfNSW\"),\n",
    "    \"TIDBO\": get_all_users_from_links(\"https://wiki.openstreetmap.org/wiki/Organised_Editing/Activities/TIDBO\"),\n",
    "    \"TomTom\": get_all_users_from_links(\"https://wiki.openstreetmap.org/wiki/Organised_Editing/Activities/TomTom\"),\n",
    "    \"Uber\": get_all_users_from_links(\"https://github.com/Uber-OSM/DataTeam\"),\n",
    "    \"WIGeoGIS\": get_all_users_from_links(\n",
    "        \"https://wiki.openstreetmap.org/wiki/Organised_Editing/Activities/Updating_assets_of_OMV_group\"\n",
    "    ),\n",
    "    \"Wonder\": get_all_users_from_links(\"https://wiki.openstreetmap.org/wiki/Organised_Editing/Activities/Wonder\"),\n",
    "    \"Zartico\": get_all_users_from_links(\"https://wiki.openstreetmap.org/wiki/Zartico\"),\n",
    "}"
   ]
  },
  {
   "cell_type": "code",
   "execution_count": 78,
   "id": "fbf6ce17-9175-461c-b206-9f32fde8bf50",
   "metadata": {},
   "outputs": [],
   "source": [
    "for name in corporation_to_users.keys():\n",
    "    corporation_to_users[name][1] = sorted(list(set(corporation_to_users[name][1])))\n",
    "    for i in range(len(corporation_to_users[name][1])):\n",
    "        user_name = corporation_to_users[name][1][i]\n",
    "        #user_name = user_name.replace(\"%20\", \"%20%\").replace(\" \", \"%20%\")\n",
    "        #user_name = user_name.replace(\"%21\", \"%21%\").replace(\"!\", \"%21%\")\n",
    "        #user_name = user_name.replace(\"%40\", \"%40%\").replace(\"@\", \"%40%\")\n",
    "        user_name_encoded = quote(user_name)\n",
    "        corporation_to_users[name][1][i] = user_name\n",
    "\n",
    "# Modify the file path to specify a different directory and filename\n",
    "file_path = os.path.join(r\"C:\\Users\\lilly\\Documents\\Uni\\Heigit_Hiwi\\corporations_project\", \"corporation_contributors_v3.json\")\n",
    "\n",
    "# Create the directory if it doesn't exist\n",
    "os.makedirs(os.path.dirname(file_path), exist_ok=True)\n",
    "\n",
    "# Write the data to the JSON file\n",
    "with open(file_path, \"w\") as f:\n",
    "    json.dump(corporation_to_users, f, sort_keys=True, indent=4)\n"
   ]
  },
  {
   "cell_type": "code",
   "execution_count": 79,
   "id": "acfe47f1-7048-4e3f-9624-d9bb7e4b2299",
   "metadata": {},
   "outputs": [],
   "source": [
    "with open(r\"C:\\Users\\lilly\\Documents\\Uni\\Heigit_Hiwi\\corporations_project\\corporation_contributors_v3.json\", \"r\") as f:\n",
    "    user_name = json.load(f)\n",
    "\n",
    "# Decode the usernames before displaying\n",
    "for name, users in user_name.items():\n",
    "    for i in range(len(users[1])):\n",
    "        users[1][i] = unquote(users[1][i])"
   ]
  },
  {
   "cell_type": "code",
   "execution_count": 83,
   "id": "b8d15cde-095d-49e4-baed-2ecc2f9b4b52",
   "metadata": {
    "scrolled": true
   },
   "outputs": [
    {
     "data": {
      "text/plain": [
       "['https://wiki.openstreetmap.org/wiki/Organised_Editing/Activities/TIDBO',\n",
       " ['DHP11 CDW', 'DHP11 LHC', 'DHP11 MDS']]"
      ]
     },
     "execution_count": 83,
     "metadata": {},
     "output_type": "execute_result"
    }
   ],
   "source": [
    "user_name['TIDBO']"
   ]
  },
  {
   "cell_type": "code",
   "execution_count": 81,
   "id": "6dd7f41f-2e20-4b83-9c67-42ca2132dac6",
   "metadata": {},
   "outputs": [],
   "source": [
    "# Load the original JSON file with encoded usernames\n",
    "with open(r\"C:\\Users\\lilly\\Documents\\Uni\\Heigit_Hiwi\\corporations_project\\corporation_contributors_v3.json\", \"r\") as f:\n",
    "    user_data_encoded = json.load(f)\n",
    "\n",
    "# Modify the usernames in the encoded state (optional, you can skip this if not needed)\n",
    "for name, users in user_data_encoded.items():\n",
    "    for i in range(len(users[1])):\n",
    "        users[1][i] = unquote(users[1][i])\n",
    "\n",
    "# Save the modified dictionary with encoded usernames\n",
    "with open(r\"C:\\Users\\lilly\\Documents\\Uni\\Heigit_Hiwi\\corporations_project\\corporation_contributors_encoded_v2.json\", \"w\") as f:\n",
    "    json.dump(user_data_encoded, f, sort_keys=True, indent=4)\n"
   ]
  }
 ],
 "metadata": {
  "kernelspec": {
   "display_name": "Python 3 (ipykernel)",
   "language": "python",
   "name": "python3"
  },
  "language_info": {
   "codemirror_mode": {
    "name": "ipython",
    "version": 3
   },
   "file_extension": ".py",
   "mimetype": "text/x-python",
   "name": "python",
   "nbconvert_exporter": "python",
   "pygments_lexer": "ipython3",
   "version": "3.11.5"
  }
 },
 "nbformat": 4,
 "nbformat_minor": 5
}
