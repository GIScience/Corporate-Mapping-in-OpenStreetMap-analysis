{
 "cells": [
  {
   "cell_type": "code",
   "execution_count": 11,
   "id": "5c94bb4d-cf92-44b9-a3e6-9c04ff96c4b0",
   "metadata": {},
   "outputs": [],
   "source": [
    "import pandas as pd\n",
    "import geopandas as gpd\n",
    "import numpy as np \n",
    "import matplotlib.pyplot as plt \n",
    "import matplotlib as mpl"
   ]
  },
  {
   "cell_type": "code",
   "execution_count": 6,
   "id": "16be93f2-dfc6-4f29-8ed3-a188fa5a923b",
   "metadata": {
    "scrolled": true
   },
   "outputs": [],
   "source": [
    "absolute_country_edits = pd.read_csv(\"../../data/fig2_absolute_country_edits_monthly_raw.csv\").drop(columns={'Unnamed: 0'})"
   ]
  },
  {
   "cell_type": "code",
   "execution_count": 19,
   "id": "60ebb15e-931c-44eb-b0b8-c4815de1ea9b",
   "metadata": {},
   "outputs": [],
   "source": [
    "corporate_country_edits = pd.read_csv(\"../../data/fig2_corporate_country_edits_monthly_raw.csv\").drop(columns={'Unnamed: 0'})"
   ]
  },
  {
   "cell_type": "code",
   "execution_count": 20,
   "id": "33380a19-0472-49e2-9640-5a1b4ce1c242",
   "metadata": {},
   "outputs": [],
   "source": [
    "corporate_country_edits = corporate_country_edits.rename(columns = {\"total\": \"corporate\"})"
   ]
  },
  {
   "cell_type": "code",
   "execution_count": 21,
   "id": "0e1cdf22-5048-45cd-abb4-59bfbdf066e1",
   "metadata": {},
   "outputs": [],
   "source": [
    "def get_group(df, year):\n",
    "    result = df.groupby('year').get_group(year).groupby('ISO_A3').sum()\n",
    "    return result\n",
    "    "
   ]
  },
  {
   "cell_type": "code",
   "execution_count": 22,
   "id": "e8a59f6c-3b28-4324-b755-ccdde7e3bd11",
   "metadata": {},
   "outputs": [],
   "source": [
    "years = [2019, 2020, 2021, 2022, 2023]"
   ]
  },
  {
   "cell_type": "code",
   "execution_count": 23,
   "id": "7a09c0eb-b31b-4be4-9563-5e825c8e6ce3",
   "metadata": {},
   "outputs": [],
   "source": [
    "frames = []"
   ]
  },
  {
   "cell_type": "code",
   "execution_count": 24,
   "id": "28f79bd0-aa74-45ff-a6c1-f9fb15fe1483",
   "metadata": {},
   "outputs": [],
   "source": [
    "frames_corporate = []"
   ]
  },
  {
   "cell_type": "code",
   "execution_count": 25,
   "id": "f242ce86-8f99-4ccc-82c6-d1860e77e15a",
   "metadata": {},
   "outputs": [],
   "source": [
    "for year in years:\n",
    "    df = get_group(absolute_country_edits, year)\n",
    "    df = df.drop(columns = {'month', 'year'})\n",
    "    df = df.rename(columns = {'total' : year})\n",
    "    frames.append(df)"
   ]
  },
  {
   "cell_type": "code",
   "execution_count": 26,
   "id": "302092d7-c654-41df-b5f5-3daf44d2c4ae",
   "metadata": {},
   "outputs": [],
   "source": [
    "for year in years:\n",
    "    df = get_group(corporate_country_edits, year)\n",
    "    df = df.drop(columns = {'month', 'year'})\n",
    "    #df = df.rename(columns = {'total' : year})\n",
    "    frames_corporate.append(df)"
   ]
  },
  {
   "cell_type": "code",
   "execution_count": 27,
   "id": "9c05d55f-7e2c-45e5-9608-2529d3976c67",
   "metadata": {},
   "outputs": [],
   "source": [
    "y19 = pd.merge(frames[0], frames_corporate[0], on = 'ISO_A3', how = 'left').reset_index().rename(columns = {2019 : 'total'})\n",
    "\n",
    "y20 = pd.merge(frames[1], frames_corporate[1], on = 'ISO_A3', how = 'left').reset_index().rename(columns = {2020 : 'total'})\n",
    "\n",
    "y21 = pd.merge(frames[2], frames_corporate[2], on = 'ISO_A3', how = 'left').reset_index().rename(columns = {2021 : 'total'})\n",
    "y22 = pd.merge(frames[3], frames_corporate[3], on = 'ISO_A3', how = 'left').reset_index().rename(columns = {2022 : 'total'})\n",
    "y23 = pd.merge(frames[4], frames_corporate[4], on = 'ISO_A3', how = 'left').reset_index().rename(columns = {2023 : 'total'})"
   ]
  },
  {
   "cell_type": "code",
   "execution_count": 28,
   "id": "5700b94d-b9a1-4039-bfcf-f4c8fcdc7e6a",
   "metadata": {},
   "outputs": [],
   "source": [
    "y19['percentage'] = (y19['corporate']/ y19['total']) *100 \n",
    "y20['percentage'] = (y20['corporate']/ y20['total']) *100 \n",
    "y21['percentage'] = (y21['corporate']/ y21['total']) *100 \n",
    "y22['percentage'] = (y22['corporate']/ y22['total']) *100 \n",
    "y23['percentage'] = (y23['corporate']/ y23['total']) *100 \n"
   ]
  },
  {
   "cell_type": "code",
   "execution_count": 29,
   "id": "0331c8f2-3584-4579-952a-d3d0d2132963",
   "metadata": {},
   "outputs": [],
   "source": [
    "y19 = y19.fillna(0)\n",
    "y20 = y20.fillna(0)\n",
    "y21 = y21.fillna(0)\n",
    "y22 = y22.fillna(0)\n",
    "y23 = y23.fillna(0)"
   ]
  },
  {
   "cell_type": "code",
   "execution_count": 34,
   "id": "ac5ffb4f-0c42-4bed-9313-08c02b8e4381",
   "metadata": {},
   "outputs": [],
   "source": [
    "hdi  = gpd.read_file(r\"C:\\Users\\Lilly\\Documents\\anaconda_uni\\ba\\Analysis\\1_World\\UpdatedVersions\\HDI-2021.csv\")"
   ]
  },
  {
   "cell_type": "code",
   "execution_count": 35,
   "id": "5188c9e6-e7f1-449b-869c-9451e79d0768",
   "metadata": {
    "scrolled": true
   },
   "outputs": [],
   "source": [
    "world_regions = gpd.read_file(r\"C:\\Users\\Lilly\\Documents\\anaconda_uni\\ba\\Analysis\\1_World\\UpdatedVersions\\world-regions-according-to-the-world-bank.csv\")"
   ]
  },
  {
   "cell_type": "code",
   "execution_count": 36,
   "id": "5b95a2c3-f663-4241-8dcd-a0559d2c7ff0",
   "metadata": {},
   "outputs": [],
   "source": [
    "world_regions = world_regions.rename(columns = {\"Entity\": \"Country\"})"
   ]
  },
  {
   "cell_type": "code",
   "execution_count": 37,
   "id": "4a23c7e8-7e27-485d-b092-47d530d91b4a",
   "metadata": {},
   "outputs": [],
   "source": [
    "hdiRegions = pd.merge(world_regions, hdi, on='Country', how='left')\n",
    "\n",
    "hdiRegions = hdiRegions.rename(columns = {\"Code\": \"ISO_A3\"})\n",
    "\n",
    "hdiRegions = hdiRegions.rename(columns = {\"World Region according to the World Bank\": \"WorldRegions\"})\n",
    "\n",
    "hdiRegions = hdiRegions.drop(columns=['geometry_x', 'geometry_y', 'Year'])"
   ]
  },
  {
   "cell_type": "code",
   "execution_count": 38,
   "id": "e1c331f5-8790-40ba-901d-d2bffabf214a",
   "metadata": {
    "scrolled": true
   },
   "outputs": [
    {
     "data": {
      "text/html": [
       "<div>\n",
       "<style scoped>\n",
       "    .dataframe tbody tr th:only-of-type {\n",
       "        vertical-align: middle;\n",
       "    }\n",
       "\n",
       "    .dataframe tbody tr th {\n",
       "        vertical-align: top;\n",
       "    }\n",
       "\n",
       "    .dataframe thead th {\n",
       "        text-align: right;\n",
       "    }\n",
       "</style>\n",
       "<table border=\"1\" class=\"dataframe\">\n",
       "  <thead>\n",
       "    <tr style=\"text-align: right;\">\n",
       "      <th></th>\n",
       "      <th>Country</th>\n",
       "      <th>ISO_A3</th>\n",
       "      <th>WorldRegions</th>\n",
       "      <th>HDI 2021</th>\n",
       "      <th>group</th>\n",
       "    </tr>\n",
       "  </thead>\n",
       "  <tbody>\n",
       "    <tr>\n",
       "      <th>0</th>\n",
       "      <td>Afghanistan</td>\n",
       "      <td>AFG</td>\n",
       "      <td>South Asia</td>\n",
       "      <td>0,478</td>\n",
       "      <td>low</td>\n",
       "    </tr>\n",
       "    <tr>\n",
       "      <th>1</th>\n",
       "      <td>Albania</td>\n",
       "      <td>ALB</td>\n",
       "      <td>Europe and Central Asia</td>\n",
       "      <td>0,796</td>\n",
       "      <td>high</td>\n",
       "    </tr>\n",
       "    <tr>\n",
       "      <th>2</th>\n",
       "      <td>Algeria</td>\n",
       "      <td>DZA</td>\n",
       "      <td>Middle East and North Africa</td>\n",
       "      <td>0,745</td>\n",
       "      <td>high</td>\n",
       "    </tr>\n",
       "    <tr>\n",
       "      <th>3</th>\n",
       "      <td>American Samoa</td>\n",
       "      <td>ASM</td>\n",
       "      <td>East Asia and Pacific</td>\n",
       "      <td>NaN</td>\n",
       "      <td>NaN</td>\n",
       "    </tr>\n",
       "    <tr>\n",
       "      <th>4</th>\n",
       "      <td>Andorra</td>\n",
       "      <td>AND</td>\n",
       "      <td>Europe and Central Asia</td>\n",
       "      <td>0,858</td>\n",
       "      <td>very high</td>\n",
       "    </tr>\n",
       "    <tr>\n",
       "      <th>...</th>\n",
       "      <td>...</td>\n",
       "      <td>...</td>\n",
       "      <td>...</td>\n",
       "      <td>...</td>\n",
       "      <td>...</td>\n",
       "    </tr>\n",
       "    <tr>\n",
       "      <th>212</th>\n",
       "      <td>Venezuela</td>\n",
       "      <td>VEN</td>\n",
       "      <td>Latin America and Caribbean</td>\n",
       "      <td>NaN</td>\n",
       "      <td>NaN</td>\n",
       "    </tr>\n",
       "    <tr>\n",
       "      <th>213</th>\n",
       "      <td>Vietnam</td>\n",
       "      <td>VNM</td>\n",
       "      <td>East Asia and Pacific</td>\n",
       "      <td>NaN</td>\n",
       "      <td>NaN</td>\n",
       "    </tr>\n",
       "    <tr>\n",
       "      <th>214</th>\n",
       "      <td>Yemen</td>\n",
       "      <td>YEM</td>\n",
       "      <td>Middle East and North Africa</td>\n",
       "      <td>0,455</td>\n",
       "      <td>low</td>\n",
       "    </tr>\n",
       "    <tr>\n",
       "      <th>215</th>\n",
       "      <td>Zambia</td>\n",
       "      <td>ZMB</td>\n",
       "      <td>Sub-Saharan Africa</td>\n",
       "      <td>0,565</td>\n",
       "      <td>medium</td>\n",
       "    </tr>\n",
       "    <tr>\n",
       "      <th>216</th>\n",
       "      <td>Zimbabwe</td>\n",
       "      <td>ZWE</td>\n",
       "      <td>Sub-Saharan Africa</td>\n",
       "      <td>0,593</td>\n",
       "      <td>medium</td>\n",
       "    </tr>\n",
       "  </tbody>\n",
       "</table>\n",
       "<p>217 rows × 5 columns</p>\n",
       "</div>"
      ],
      "text/plain": [
       "            Country ISO_A3                  WorldRegions HDI 2021      group\n",
       "0       Afghanistan    AFG                    South Asia    0,478        low\n",
       "1           Albania    ALB       Europe and Central Asia    0,796       high\n",
       "2           Algeria    DZA  Middle East and North Africa    0,745       high\n",
       "3    American Samoa    ASM         East Asia and Pacific      NaN        NaN\n",
       "4           Andorra    AND       Europe and Central Asia    0,858  very high\n",
       "..              ...    ...                           ...      ...        ...\n",
       "212       Venezuela    VEN   Latin America and Caribbean      NaN        NaN\n",
       "213         Vietnam    VNM         East Asia and Pacific      NaN        NaN\n",
       "214           Yemen    YEM  Middle East and North Africa    0,455        low\n",
       "215          Zambia    ZMB            Sub-Saharan Africa    0,565     medium\n",
       "216        Zimbabwe    ZWE            Sub-Saharan Africa    0,593     medium\n",
       "\n",
       "[217 rows x 5 columns]"
      ]
     },
     "execution_count": 38,
     "metadata": {},
     "output_type": "execute_result"
    }
   ],
   "source": [
    "hdiRegions"
   ]
  },
  {
   "cell_type": "code",
   "execution_count": 32,
   "id": "3e52302a-2433-4936-a925-5aed5317ccbc",
   "metadata": {},
   "outputs": [],
   "source": [
    "def calcPercentageHDI(df, year, newCorpoColumnName, newTotalCorpoName):\n",
    "    data =  df\n",
    "    table = pd.merge(data, hdiRegions, on='ISO_A3', how='left')\n",
    "    #table = table.drop(columns=['geometry'])\n",
    "    table[\"corporate\"] = table[\"corporate\"].astype(int)\n",
    "    table[\"total\"] = table[\"total\"].astype(int)\n",
    "\n",
    "    table = table.rename(columns={\"corporate\": newCorpoColumnName, \n",
    "                                  \"total\": newTotalCorpoName})\n",
    "    \n",
    "    tableNew = table.groupby(\"group\", group_keys=True, dropna=True).agg({\n",
    "        newCorpoColumnName: \"sum\",   # Use \"sum\" for summation\n",
    "        newTotalCorpoName : \"sum\"         # Use \"sum\" for summation\n",
    "    })\n",
    "    tableNew[year] = (tableNew[newCorpoColumnName] / tableNew[newTotalCorpoName]) * 100\n",
    "\n",
    "    tableNew = tableNew.drop(columns=[newCorpoColumnName, newTotalCorpoName])\n",
    "   \n",
    "    return tableNew"
   ]
  },
  {
   "cell_type": "code",
   "execution_count": 146,
   "id": "c209392c-329e-4f8f-a00d-1dd2883ea461",
   "metadata": {},
   "outputs": [],
   "source": [
    "h2019 = calcPercentageHDI(y19, '2019', 'Corporate19', 'Total2019')"
   ]
  },
  {
   "cell_type": "code",
   "execution_count": 148,
   "id": "933ac5b7-e5fa-44a7-b704-790ab0c907af",
   "metadata": {},
   "outputs": [],
   "source": [
    "h2020 = calcPercentageHDI(y20, '2020', 'Corporate20', 'Total2020')\n",
    "h2021 = calcPercentageHDI(y21, '2021', 'Corporate21', 'Total2021')\n",
    "h2022 = calcPercentageHDI(y22, '2022', 'Corporate22', 'Total2022')\n",
    "h2023 = calcPercentageHDI(y23, '2023', 'Corporate23', 'Total2023')"
   ]
  },
  {
   "cell_type": "code",
   "execution_count": 149,
   "id": "95a9e7c1-9206-4864-bd75-e442696a086b",
   "metadata": {},
   "outputs": [],
   "source": [
    "HDIAgg = h2019.join([h2020, h2021, h2022, h2023])"
   ]
  },
  {
   "cell_type": "code",
   "execution_count": 3,
   "id": "9f9a6410-b184-49ed-8220-679bda2c1caf",
   "metadata": {
    "scrolled": true
   },
   "outputs": [
    {
     "data": {
      "text/html": [
       "<div>\n",
       "<style scoped>\n",
       "    .dataframe tbody tr th:only-of-type {\n",
       "        vertical-align: middle;\n",
       "    }\n",
       "\n",
       "    .dataframe tbody tr th {\n",
       "        vertical-align: top;\n",
       "    }\n",
       "\n",
       "    .dataframe thead th {\n",
       "        text-align: right;\n",
       "    }\n",
       "</style>\n",
       "<table border=\"1\" class=\"dataframe\">\n",
       "  <thead>\n",
       "    <tr style=\"text-align: right;\">\n",
       "      <th></th>\n",
       "      <th>group</th>\n",
       "      <th>2019</th>\n",
       "      <th>2020</th>\n",
       "      <th>2021</th>\n",
       "      <th>2022</th>\n",
       "      <th>2023</th>\n",
       "    </tr>\n",
       "  </thead>\n",
       "  <tbody>\n",
       "    <tr>\n",
       "      <th>0</th>\n",
       "      <td>high</td>\n",
       "      <td>19.342836</td>\n",
       "      <td>26.825003</td>\n",
       "      <td>30.870386</td>\n",
       "      <td>24.667697</td>\n",
       "      <td>12.641410</td>\n",
       "    </tr>\n",
       "    <tr>\n",
       "      <th>1</th>\n",
       "      <td>low</td>\n",
       "      <td>1.023491</td>\n",
       "      <td>1.779802</td>\n",
       "      <td>2.838133</td>\n",
       "      <td>3.553033</td>\n",
       "      <td>7.487605</td>\n",
       "    </tr>\n",
       "    <tr>\n",
       "      <th>2</th>\n",
       "      <td>medium</td>\n",
       "      <td>4.679001</td>\n",
       "      <td>20.112227</td>\n",
       "      <td>24.516190</td>\n",
       "      <td>18.843670</td>\n",
       "      <td>12.044844</td>\n",
       "    </tr>\n",
       "    <tr>\n",
       "      <th>3</th>\n",
       "      <td>very high</td>\n",
       "      <td>2.189900</td>\n",
       "      <td>2.672881</td>\n",
       "      <td>5.108599</td>\n",
       "      <td>3.018649</td>\n",
       "      <td>2.739404</td>\n",
       "    </tr>\n",
       "  </tbody>\n",
       "</table>\n",
       "</div>"
      ],
      "text/plain": [
       "       group       2019       2020       2021       2022       2023\n",
       "0       high  19.342836  26.825003  30.870386  24.667697  12.641410\n",
       "1        low   1.023491   1.779802   2.838133   3.553033   7.487605\n",
       "2     medium   4.679001  20.112227  24.516190  18.843670  12.044844\n",
       "3  very high   2.189900   2.672881   5.108599   3.018649   2.739404"
      ]
     },
     "execution_count": 3,
     "metadata": {},
     "output_type": "execute_result"
    }
   ],
   "source": [
    "HDIAgg"
   ]
  },
  {
   "cell_type": "code",
   "execution_count": 151,
   "id": "cc90d15f-272c-4289-824a-d292f3f5ec7a",
   "metadata": {},
   "outputs": [],
   "source": [
    "HDIAgg.to_csv('corporate_HDI.csv')"
   ]
  },
  {
   "cell_type": "markdown",
   "id": "686f5794-ec9d-47f1-9e21-db19013f8e87",
   "metadata": {},
   "source": [
    "### HDI for su t0-t1 results"
   ]
  },
  {
   "cell_type": "code",
   "execution_count": 53,
   "id": "6d412cbe-41dd-4a4f-bc40-96307f582b59",
   "metadata": {
    "scrolled": true
   },
   "outputs": [
    {
     "data": {
      "text/plain": [
       "Index(['ISO_A2', 'ISO_A2_EH', 'ISO_A3', 'ISO_A3_EH', 'ISO_N3', 'ISO_N3_EH',\n",
       "       'NAME_EN', 'country_iso_a3', 'post_t1_avg_monthly_edits_non_corporate',\n",
       "       'post_t1_avg_monthly_edits_corporate',\n",
       "       'post_t1_avg_monthly_contributors_non_corporate',\n",
       "       'post_t1_avg_monthly_contributors_corporate',\n",
       "       'post_t1_sum_edits_non_corporate', 'post_t1_sum_edits_corporate',\n",
       "       'pre_t0_avg_monthly_edits_non_corporate',\n",
       "       'pre_t0_avg_monthly_edits_corporate',\n",
       "       'pre_t0_avg_monthly_contributors_non_corporate',\n",
       "       'pre_t0_avg_monthly_contributors_corporate',\n",
       "       'pre_t0_sum_edits_non_corporate', 'pre_t0_sum_edits_corporate',\n",
       "       't0_avg_monthly_edits_non_corporate', 't0_avg_monthly_edits_corporate',\n",
       "       't0_avg_monthly_contributors_non_corporate',\n",
       "       't0_avg_monthly_contributors_corporate', 't0_sum_edits_non_corporate',\n",
       "       't0_sum_edits_corporate', 't1_avg_monthly_edits_non_corporate',\n",
       "       't1_avg_monthly_edits_corporate',\n",
       "       't1_avg_monthly_contributors_non_corporate',\n",
       "       't1_avg_monthly_contributors_corporate', 't1_sum_edits_non_corporate',\n",
       "       't1_sum_edits_corporate', 'sum_edits_non_corporate',\n",
       "       'sum_edits_corporate', 'share_sum_edits_corporate',\n",
       "       'difference_avg_monthly_edits_non_corporate',\n",
       "       'difference_avg_monthly_edits_corporate',\n",
       "       'normalized_difference_avg_monthly_edits_non_corporate',\n",
       "       'normalized_difference_avg_monthly_edits_corporate', 'geometry'],\n",
       "      dtype='object')"
      ]
     },
     "metadata": {},
     "output_type": "display_data"
    }
   ],
   "source": [
    "df = gpd.read_file('../../data/world_boundaries_with_stats_centroid.gpkg')\n",
    "\n",
    "display(df.columns)"
   ]
  },
  {
   "cell_type": "code",
   "execution_count": 54,
   "id": "c311e4ff-5cc5-4764-aeaf-376d8853afca",
   "metadata": {
    "scrolled": true
   },
   "outputs": [
    {
     "data": {
      "text/html": [
       "<div>\n",
       "<style scoped>\n",
       "    .dataframe tbody tr th:only-of-type {\n",
       "        vertical-align: middle;\n",
       "    }\n",
       "\n",
       "    .dataframe tbody tr th {\n",
       "        vertical-align: top;\n",
       "    }\n",
       "\n",
       "    .dataframe thead th {\n",
       "        text-align: right;\n",
       "    }\n",
       "</style>\n",
       "<table border=\"1\" class=\"dataframe\">\n",
       "  <thead>\n",
       "    <tr style=\"text-align: right;\">\n",
       "      <th></th>\n",
       "      <th>country_iso_a3</th>\n",
       "      <th>sum_edits_non_corporate</th>\n",
       "      <th>sum_edits_corporate</th>\n",
       "      <th>share_sum_edits_corporate</th>\n",
       "    </tr>\n",
       "  </thead>\n",
       "  <tbody>\n",
       "    <tr>\n",
       "      <th>0</th>\n",
       "      <td>URY</td>\n",
       "      <td>204125.0</td>\n",
       "      <td>805613.0</td>\n",
       "      <td>0.798</td>\n",
       "    </tr>\n",
       "    <tr>\n",
       "      <th>1</th>\n",
       "      <td>MEX</td>\n",
       "      <td>5815039.0</td>\n",
       "      <td>12991241.0</td>\n",
       "      <td>0.691</td>\n",
       "    </tr>\n",
       "    <tr>\n",
       "      <th>2</th>\n",
       "      <td>EGY</td>\n",
       "      <td>2843884.0</td>\n",
       "      <td>5876043.0</td>\n",
       "      <td>0.674</td>\n",
       "    </tr>\n",
       "    <tr>\n",
       "      <th>3</th>\n",
       "      <td>QAT</td>\n",
       "      <td>215098.0</td>\n",
       "      <td>381910.0</td>\n",
       "      <td>0.640</td>\n",
       "    </tr>\n",
       "    <tr>\n",
       "      <th>4</th>\n",
       "      <td>ARE</td>\n",
       "      <td>1322746.0</td>\n",
       "      <td>1742396.0</td>\n",
       "      <td>0.568</td>\n",
       "    </tr>\n",
       "    <tr>\n",
       "      <th>...</th>\n",
       "      <td>...</td>\n",
       "      <td>...</td>\n",
       "      <td>...</td>\n",
       "      <td>...</td>\n",
       "    </tr>\n",
       "    <tr>\n",
       "      <th>172</th>\n",
       "      <td>None</td>\n",
       "      <td>NaN</td>\n",
       "      <td>NaN</td>\n",
       "      <td>NaN</td>\n",
       "    </tr>\n",
       "    <tr>\n",
       "      <th>173</th>\n",
       "      <td>None</td>\n",
       "      <td>NaN</td>\n",
       "      <td>NaN</td>\n",
       "      <td>NaN</td>\n",
       "    </tr>\n",
       "    <tr>\n",
       "      <th>174</th>\n",
       "      <td>None</td>\n",
       "      <td>NaN</td>\n",
       "      <td>NaN</td>\n",
       "      <td>NaN</td>\n",
       "    </tr>\n",
       "    <tr>\n",
       "      <th>175</th>\n",
       "      <td>None</td>\n",
       "      <td>NaN</td>\n",
       "      <td>NaN</td>\n",
       "      <td>NaN</td>\n",
       "    </tr>\n",
       "    <tr>\n",
       "      <th>176</th>\n",
       "      <td>None</td>\n",
       "      <td>NaN</td>\n",
       "      <td>NaN</td>\n",
       "      <td>NaN</td>\n",
       "    </tr>\n",
       "  </tbody>\n",
       "</table>\n",
       "<p>177 rows × 4 columns</p>\n",
       "</div>"
      ],
      "text/plain": [
       "    country_iso_a3  sum_edits_non_corporate  sum_edits_corporate  \\\n",
       "0              URY                 204125.0             805613.0   \n",
       "1              MEX                5815039.0           12991241.0   \n",
       "2              EGY                2843884.0            5876043.0   \n",
       "3              QAT                 215098.0             381910.0   \n",
       "4              ARE                1322746.0            1742396.0   \n",
       "..             ...                      ...                  ...   \n",
       "172           None                      NaN                  NaN   \n",
       "173           None                      NaN                  NaN   \n",
       "174           None                      NaN                  NaN   \n",
       "175           None                      NaN                  NaN   \n",
       "176           None                      NaN                  NaN   \n",
       "\n",
       "     share_sum_edits_corporate  \n",
       "0                        0.798  \n",
       "1                        0.691  \n",
       "2                        0.674  \n",
       "3                        0.640  \n",
       "4                        0.568  \n",
       "..                         ...  \n",
       "172                        NaN  \n",
       "173                        NaN  \n",
       "174                        NaN  \n",
       "175                        NaN  \n",
       "176                        NaN  \n",
       "\n",
       "[177 rows x 4 columns]"
      ]
     },
     "metadata": {},
     "output_type": "display_data"
    }
   ],
   "source": [
    "columns = [\n",
    "    \"country_iso_a3\",\n",
    "    \"sum_edits_non_corporate\",\n",
    "    \"sum_edits_corporate\",\n",
    "    \"share_sum_edits_corporate\",\n",
    "    ]\n",
    "\n",
    "display(df[columns].sort_values(\"share_sum_edits_corporate\", ascending = False))"
   ]
  },
  {
   "cell_type": "code",
   "execution_count": 55,
   "id": "0c595a54-3a84-4662-b418-7a6beb16ba79",
   "metadata": {},
   "outputs": [],
   "source": [
    "country = df[columns].rename(columns={'country_iso_a3': 'ISO_A3', 'sum_edits_non_corporate' : 'nc', 'sum_edits_corporate': 'corporate'})"
   ]
  },
  {
   "cell_type": "code",
   "execution_count": 56,
   "id": "046bf022-6a80-47c7-9158-6285d3f3bf62",
   "metadata": {},
   "outputs": [],
   "source": [
    "country['total'] = country['nc'] + country['corporate'] "
   ]
  },
  {
   "cell_type": "code",
   "execution_count": 59,
   "id": "5ba3e19c-ab71-45fe-a9a0-0c401d1476de",
   "metadata": {
    "scrolled": true
   },
   "outputs": [],
   "source": [
    "country = country.fillna(0)"
   ]
  },
  {
   "cell_type": "code",
   "execution_count": 60,
   "id": "1151a8bd-4dd3-4cbf-afdc-06e334826d22",
   "metadata": {},
   "outputs": [],
   "source": [
    "tot1_HDI = calcPercentageHDI(country, '2019', 'Corporate19', 'Total2019')"
   ]
  },
  {
   "cell_type": "code",
   "execution_count": 61,
   "id": "fe38bb97-e860-4cda-85f1-c0af9bc25b61",
   "metadata": {},
   "outputs": [
    {
     "data": {
      "text/html": [
       "<div>\n",
       "<style scoped>\n",
       "    .dataframe tbody tr th:only-of-type {\n",
       "        vertical-align: middle;\n",
       "    }\n",
       "\n",
       "    .dataframe tbody tr th {\n",
       "        vertical-align: top;\n",
       "    }\n",
       "\n",
       "    .dataframe thead th {\n",
       "        text-align: right;\n",
       "    }\n",
       "</style>\n",
       "<table border=\"1\" class=\"dataframe\">\n",
       "  <thead>\n",
       "    <tr style=\"text-align: right;\">\n",
       "      <th></th>\n",
       "      <th>2019</th>\n",
       "    </tr>\n",
       "    <tr>\n",
       "      <th>group</th>\n",
       "      <th></th>\n",
       "    </tr>\n",
       "  </thead>\n",
       "  <tbody>\n",
       "    <tr>\n",
       "      <th>high</th>\n",
       "      <td>30.305508</td>\n",
       "    </tr>\n",
       "    <tr>\n",
       "      <th>low</th>\n",
       "      <td>3.519919</td>\n",
       "    </tr>\n",
       "    <tr>\n",
       "      <th>medium</th>\n",
       "      <td>19.764207</td>\n",
       "    </tr>\n",
       "    <tr>\n",
       "      <th>very high</th>\n",
       "      <td>6.240535</td>\n",
       "    </tr>\n",
       "  </tbody>\n",
       "</table>\n",
       "</div>"
      ],
      "text/plain": [
       "                2019\n",
       "group               \n",
       "high       30.305508\n",
       "low         3.519919\n",
       "medium     19.764207\n",
       "very high   6.240535"
      ]
     },
     "execution_count": 61,
     "metadata": {},
     "output_type": "execute_result"
    }
   ],
   "source": [
    "tot1_HDI"
   ]
  }
 ],
 "metadata": {
  "kernelspec": {
   "display_name": "Python 3 (ipykernel)",
   "language": "python",
   "name": "python3"
  },
  "language_info": {
   "codemirror_mode": {
    "name": "ipython",
    "version": 3
   },
   "file_extension": ".py",
   "mimetype": "text/x-python",
   "name": "python",
   "nbconvert_exporter": "python",
   "pygments_lexer": "ipython3",
   "version": "3.12.3"
  }
 },
 "nbformat": 4,
 "nbformat_minor": 5
}
